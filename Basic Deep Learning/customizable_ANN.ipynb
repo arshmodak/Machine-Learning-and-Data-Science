{
  "nbformat": 4,
  "nbformat_minor": 0,
  "metadata": {
    "accelerator": "GPU",
    "colab": {
      "name": "customizable_ANN.ipynb",
      "provenance": [],
      "collapsed_sections": []
    },
    "kernelspec": {
      "display_name": "Python 3",
      "language": "python",
      "name": "python3"
    },
    "language_info": {
      "codemirror_mode": {
        "name": "ipython",
        "version": 3
      },
      "file_extension": ".py",
      "mimetype": "text/x-python",
      "name": "python",
      "nbconvert_exporter": "python",
      "pygments_lexer": "ipython3",
      "version": "3.7.6"
    }
  },
  "cells": [
    {
      "cell_type": "markdown",
      "metadata": {
        "id": "m06ba0x-pUGB"
      },
      "source": [
        "# **Customizable Artificial Neural Network**\n",
        "## *Arsh Modak*"
      ]
    },
    {
      "cell_type": "code",
      "metadata": {
        "id": "-5aT9ztFQ6gr"
      },
      "source": [
        "# Importing Necessary Libraries:\n",
        "\n",
        "import scipy\n",
        "from scipy import io\n",
        "import torch\n",
        "import pandas as pd\n",
        "from torchvision import transforms\n",
        "from torch import nn\n",
        "import torch.nn.functional as F\n",
        "from torch import optim\n",
        "import numpy as np\n",
        "import matplotlib.pyplot as plt\n",
        "import seaborn as sns\n"
      ],
      "execution_count": 1,
      "outputs": []
    },
    {
      "cell_type": "code",
      "metadata": {
        "colab": {
          "base_uri": "https://localhost:8080/"
        },
        "id": "DH3JMiaQY8d4",
        "outputId": "619a7d2b-57dd-420e-db88-1820a5d5dd6b"
      },
      "source": [
        "# Checking for GPU:\n",
        "print(torch.cuda.get_device_name(0))"
      ],
      "execution_count": 2,
      "outputs": [
        {
          "output_type": "stream",
          "text": [
            "Tesla T4\n"
          ],
          "name": "stdout"
        }
      ]
    },
    {
      "cell_type": "code",
      "metadata": {
        "colab": {
          "base_uri": "https://localhost:8080/"
        },
        "id": "QUHx50GOSXuz",
        "outputId": "ed8c34b2-761d-493b-fe57-ac3c70bf6331"
      },
      "source": [
        "# Getting Device:\n",
        "device = torch.device(\"cuda:0\" if torch.cuda.is_available() else \"cpu\")\n",
        "print(device)"
      ],
      "execution_count": 3,
      "outputs": [
        {
          "output_type": "stream",
          "text": [
            "cuda:0\n"
          ],
          "name": "stdout"
        }
      ]
    },
    {
      "cell_type": "code",
      "metadata": {
        "id": "FtjbQdheQ82B"
      },
      "source": [
        "# Function to Load Data:\n",
        "\n",
        "def loadData(dataPath):\n",
        "\n",
        "    data_mat = scipy.io.loadmat(dataPath)\n",
        "    X_train = torch.Tensor(data_mat[\"X_trn\"])\n",
        "    X_test = torch.Tensor(data_mat[\"X_tst\"])\n",
        "    Y_train = data_mat[\"y_trn\"]\n",
        "    Y_train[Y_train == -1] = 0\n",
        "    Y_train = torch.LongTensor(Y_train.flatten())\n",
        "    Y_test = data_mat[\"y_tst\"]\n",
        "    Y_test[Y_test == -1] = 0\n",
        "    Y_test = torch.LongTensor(Y_test.flatten())\n",
        "    \n",
        "    \n",
        "    return X_train, X_test, Y_train, Y_test\n"
      ],
      "execution_count": 4,
      "outputs": []
    },
    {
      "cell_type": "code",
      "metadata": {
        "id": "BxOldLcajSQc"
      },
      "source": [
        "def user_input():\n",
        "  print(\"Fixed Input and Output Size of 2 ('Enter 2')\")\n",
        "  # input_size, output_size = 2, 2\n",
        "  input_size = int(input(\"Enter Number of Neurons of Input Layer: \"))\n",
        "  output_size = int(input(\"Enter Number of Neurons of Output Layer: \"))\n",
        "  n_hl = int(input(\"Enter Number of Hidden Layers:\"))\n",
        "\n",
        "  hidden_layer_size = list()\n",
        "  for i in range(1, n_hl + 1):\n",
        "    s = int(input(\"Enter Number of Neurons in Hidden Layer {}: \".format(i)))\n",
        "    hidden_layer_size.append(s)\n",
        "\n",
        "  activation_func_dict = dict()\n",
        "  print(\"Enter Activation Functions ('relu', 'sigmoid', 'identity', 'tanh')\")\n",
        "  for i in range(1, n_hl + 1):\n",
        "    a_func = str(input(\"Enter Activation Function for Hidden Layer {}: \".format(i)))\n",
        "    activation_func_dict[i] = a_func\n",
        "\n",
        "  output_activation = str(input(\"Enter Activation Function for Output Layer: \"))\n",
        "  epochs = int(input(\"Enter Number of Epochs: \"))\n",
        "  learning_rate = float(input(\"Enter value of Learning Rate: \"))\n",
        "  dropout = float(input(\"Enter Dropout Value: \"))\n",
        "  print(\"\\n\")\n",
        "  # print(hidden_layer_size)\n",
        "  # print(activation_func_dict)\n",
        "  # print(output_activation)\n",
        "\n",
        "  return input_size, output_size, hidden_layer_size, activation_func_dict, output_activation, epochs, learning_rate, dropout\n"
      ],
      "execution_count": 5,
      "outputs": []
    },
    {
      "cell_type": "code",
      "metadata": {
        "id": "zIMSQy2OOqNb"
      },
      "source": [
        "# Creating Train and Test DataFrames:\n",
        "\n",
        "def createDF(X_train, X_test, y_train, y_test):\n",
        "\n",
        "  df_train = pd.DataFrame(X_train, columns = [\"X1\", \"X2\"]).astype(float)\n",
        "  df_train[\"y\"] = pd.DataFrame(y_train).astype(int)\n",
        "  df_test = pd.DataFrame(X_test, columns = [\"X1\", \"X2\"]).astype(float)\n",
        "  df_test[\"y\"] = pd.DataFrame(y_test).astype(int)\n",
        "  \n",
        "  return df_train, df_test"
      ],
      "execution_count": 6,
      "outputs": []
    },
    {
      "cell_type": "code",
      "metadata": {
        "id": "A7GnCufUlrMj"
      },
      "source": [
        "# Function to plot data:\n",
        "\n",
        "def plot_points(data, type, set_):\n",
        "  if type == \"og\":\n",
        "    hue = \"y\"\n",
        "    title = \"Original Data (\" + set_.capitalize() + \")\"\n",
        "  elif type == \"preds\":\n",
        "    hue = \"y_pred\"\n",
        "    title = \"Predicted Data (\" + set_.capitalize() + \")\"\n",
        "  plt.figure(figsize = (12, 7))\n",
        "  ax = sns.scatterplot(x = \"X1\",\n",
        "                  y = \"X2\",\n",
        "                  hue = \"y\",\n",
        "                  palette = sns.color_palette(\"Set1\", n_colors = 2),\n",
        "                  data = data,\n",
        "                  legend = \"full\", \n",
        "                  style = \"y\",\n",
        "                  markers = {1: \"o\", 0: \"s\"},\n",
        "                  alpha = 0.75)\n",
        "  ax.set_title(title)\n",
        "  \n",
        "  return"
      ],
      "execution_count": 7,
      "outputs": []
    },
    {
      "cell_type": "markdown",
      "metadata": {
        "id": "vpMukz2lmwQV"
      },
      "source": [
        "## **FEEDFORWARD ARTIFICIAL NEURAL NETWORK**"
      ]
    },
    {
      "cell_type": "code",
      "metadata": {
        "id": "cjXkmhG0Zlu8"
      },
      "source": [
        "\n",
        "class Network(nn.Module):\n",
        "  def __init__(self, input_size, output_size, hidden_layers, activation_func_dict = None, output_activation = None, drop_p=0.2):\n",
        "      super().__init__()\n",
        "      self.activation_func_dict = activation_func_dict\n",
        "      self.activation_func = None\n",
        "      self.output_activation = output_activation\n",
        "      self.hidden_layers = nn.ModuleList([nn.Linear(input_size, hidden_layers[0])])\n",
        "      layer_sizes = zip(hidden_layers[:-1], hidden_layers[1:])\n",
        "      self.hidden_layers.extend([nn.Linear(h1, h2) for h1, h2 in layer_sizes])\n",
        "      self.output = nn.Linear(hidden_layers[-1], output_size)\n",
        "      self.dropout = nn.Dropout(p=drop_p)\n",
        "      \n",
        "  def forward(self, x):\n",
        "    i = 0\n",
        "    for each in self.hidden_layers:\n",
        "      i += 1\n",
        "      self.activation_func = self.activation_func_dict[i]\n",
        "      if self.activation_func == \"relu\":\n",
        "        x = F.relu(each(x))\n",
        "      elif self.activation_func == \"tanh\":\n",
        "        x = F.tanh(each(x))\n",
        "      elif self.activation_func == \"sigmoid\":\n",
        "        x = F.sigmoid(each(x))\n",
        "      elif self.activation_func == \"identity\":\n",
        "        x = F.identity(each(x))\n",
        "      else:\n",
        "        print(\"Invalid Activation Function!\")\n",
        "      x = self.dropout(x)\n",
        "    if self.output_activation == \"relu\":\n",
        "      x = F.relu(self.output(x))\n",
        "    elif self.output_activation == \"tanh\":\n",
        "      x = F.tanh(self.output(x))\n",
        "    elif self.output_activation == \"sigmoid\":\n",
        "      x = F.sigmoid(self.output(x))\n",
        "    elif self.output_activation == \"identity\":\n",
        "      x = F.identity(self.output(x))\n",
        "    else:\n",
        "      print(\"Invalid Activation Function!\")      \n",
        "    return x\n"
      ],
      "execution_count": null,
      "outputs": []
    },
    {
      "cell_type": "code",
      "metadata": {
        "id": "3GDmBsm_S5U8"
      },
      "source": [
        "def show_params(model, hidden_layers, ver):\n",
        "  if ver == \"initial\":\n",
        "    print(\"Initial Weights and Biases of Network:\")\n",
        "    print(\"=======================================\\n\")\n",
        "  elif ver == \"trained\":\n",
        "    print(\"Updated Weights and Biases of Network:\")\n",
        "    print(\"=======================================\\n\")\n",
        "  else:\n",
        "    print(\"Invalid Version!\")\n",
        "\n",
        "  for i in range(len(hidden_layers)):\n",
        "    print(\"Weights of Hidden Layer: {}\\n==========================\\n{}\".format(i+1, model.hidden_layers[i].weight))\n",
        "    print(\"\\nBias of Hidden Layer: {}\\n========================\\n{}\\n\".format(i+1, model.hidden_layers[i].bias))\n",
        "  return "
      ],
      "execution_count": null,
      "outputs": []
    },
    {
      "cell_type": "code",
      "metadata": {
        "id": "uN8b5OLzLiWt"
      },
      "source": [
        "def evaluate(X, y):\n",
        "  loss, accuracy = 0.0, 0.0\n",
        "  preds = list()\n",
        "  for feat, labels in zip(X, y):\n",
        "    feat, labels = feat.to(device), labels.to(device)\n",
        "    output = model(feat)\n",
        "    loss += criterion(output.view(1, -1), labels.view(-1))\n",
        "      \n",
        "    ps = torch.exp(output).view(1, -1)\n",
        "    top_p, top_class = ps.topk(1, dim = 1)\n",
        "    equals = top_class == labels.view(*top_class.shape)\n",
        "    preds.append(top_class.item())\n",
        "    accuracy += torch.mean(equals.type(torch.FloatTensor))\n",
        "\n",
        "  return loss, accuracy, preds"
      ],
      "execution_count": null,
      "outputs": []
    },
    {
      "cell_type": "code",
      "metadata": {
        "id": "XeL1YIom7D0r"
      },
      "source": [
        "# Training and Validating the above network:\n",
        "\n",
        "def runNN(model, X_train, X_test, y_train, y_test, epochs, criterion, lr):\n",
        "\n",
        "  min_test_loss = np.Inf\n",
        "  best_e = 0\n",
        "  model.to(device)\n",
        "  optimizer = optim.Adam(model.parameters(), lr = lr)\n",
        "  train_losses, test_losses = list(), list()\n",
        "  train_losses_on_eval = list()\n",
        "\n",
        "  for e in range(epochs):\n",
        "      running_loss = 0\n",
        "      for feat, labels in zip(X_train, y_train):\n",
        "        feat, labels = feat.to(device), labels.to(device)\n",
        "        optimizer.zero_grad()\n",
        "        output = model(feat)\n",
        "        loss = criterion(output.view(1, -1), labels.view(-1))\n",
        "        loss.backward()\n",
        "        optimizer.step()\n",
        "        running_loss += loss.item()\n",
        "          \n",
        "      else:\n",
        "          test_loss = 0\n",
        "          accuracy = 0\n",
        "          with torch.no_grad():\n",
        "              model.eval()\n",
        "              train_loss_eval, train_accuracy, train_preds = evaluate(X_train, y_train)\n",
        "              test_loss, test_accuracy, test_preds = evaluate(X_test, y_test)\n",
        "              \n",
        "              #if test_loss < min_test_loss:\n",
        "                #min_test_loss = test_loss\n",
        "                #print(\"Saving Model...\")\n",
        "                #torch.save(model.state_dict(), \"/content/trained_net.pt\")\n",
        "                #best_e = e\n",
        "            \n",
        "          model.train()\n",
        "\n",
        "          train_losses.append(running_loss/len(X_train))\n",
        "          test_losses.append(test_loss/len(X_test))\n",
        "          train_losses_on_eval.append(train_loss_eval/len(X_train))\n",
        "\n",
        "          test_acc = (test_accuracy/len(X_test))*100\n",
        "          train_acc = (train_accuracy/len(X_train))*100\n",
        "\n",
        "          cls_error_train = 100 - train_acc\n",
        "          cls_error_test = 100 - test_acc\n",
        "\n",
        "          print(\"\\nEpoch {} of {}\\n=================\\n\".format(e+1, epochs),\n",
        "                \"Training Loss: {:.4f}\".format(train_losses[-1]),\n",
        "                \"Test Loss: {:.4f}\\n\".format(test_losses[-1]),\n",
        "                \"Train Accuracy: {:.4f}\".format(train_acc),\n",
        "                \"Classification Error (Train): {:.4f}\\n\".format(cls_error_train),\n",
        "                \"Test Accuracy: {:.4f}\".format(test_acc),\n",
        "                \"Classification Error (Test): {:.4f}\\n\".format(cls_error_test))\n",
        "          \n",
        "  #print(\"\\n\\nBest Epoch: {}\".format(best_e))\n",
        "  return model, train_preds, test_preds\n",
        "        "
      ],
      "execution_count": null,
      "outputs": []
    },
    {
      "cell_type": "code",
      "metadata": {
        "id": "xMJClv0tSH4i"
      },
      "source": [
        "# Create/Reset Network\n",
        "def create_Network(input_size, output_size, hidden_layers, activation_func_dict, output_activation, dropout):\n",
        "  return Network(input_size, output_size, hidden_layers, activation_func_dict, output_activation, dropout)"
      ],
      "execution_count": null,
      "outputs": []
    },
    {
      "cell_type": "code",
      "metadata": {
        "id": "uk3Q5jJkpEi0"
      },
      "source": [
        "# Function to Initialize Network with all Parameters given by the User:\n",
        "def initialize_network():\n",
        "  input_size, output_size, hidden_layer_size, activation_func_dict, output_activation, epochs, learning_rate, dropout = user_input()\n",
        "  model = create_Network(input_size, output_size, hidden_layer_size, activation_func_dict, output_activation, dropout)\n",
        "  return model, hidden_layer_size, epochs, learning_rate"
      ],
      "execution_count": null,
      "outputs": []
    },
    {
      "cell_type": "code",
      "metadata": {
        "id": "sUve0-A1OBdf"
      },
      "source": [
        "criterion = nn.CrossEntropyLoss()"
      ],
      "execution_count": null,
      "outputs": []
    },
    {
      "cell_type": "markdown",
      "metadata": {
        "id": "EnV0VTh0nDGj"
      },
      "source": [
        "## **A View of the Dataset**"
      ]
    },
    {
      "cell_type": "code",
      "metadata": {
        "id": "7Wr4JDW5RA0c"
      },
      "source": [
        "# Loading Data:\n",
        "\n",
        "dataPath = \"/content/datasets/ann_dataset.mat\"\n",
        "X_train, X_test, y_train, y_test = loadData(dataPath)"
      ],
      "execution_count": null,
      "outputs": []
    },
    {
      "cell_type": "code",
      "metadata": {
        "colab": {
          "base_uri": "https://localhost:8080/"
        },
        "id": "ISiYLcX9UUyU",
        "outputId": "4f67fca6-1af3-4833-aae5-ebb4b89902ca"
      },
      "source": [
        "print(X_train.shape, y_train.shape)\n",
        "print(X_test.shape, y_test.shape)"
      ],
      "execution_count": null,
      "outputs": [
        {
          "output_type": "stream",
          "text": [
            "torch.Size([1000, 2]) torch.Size([1000])\n",
            "torch.Size([1000, 2]) torch.Size([1000])\n"
          ],
          "name": "stdout"
        }
      ]
    },
    {
      "cell_type": "code",
      "metadata": {
        "colab": {
          "base_uri": "https://localhost:8080/"
        },
        "id": "uFU5BNVoO7b9",
        "outputId": "51ed0e4c-eb37-4635-84a8-8dd26a2033cf"
      },
      "source": [
        "df_train, df_test = createDF(X_train, X_test, y_train, y_test)\n",
        "print(\"Train DF:\\n\", df_train.head())\n",
        "print(\"\\n\")\n",
        "print(\"Test DF:\\n\", df_test.head())"
      ],
      "execution_count": null,
      "outputs": [
        {
          "output_type": "stream",
          "text": [
            "Train DF:\n",
            "          X1        X2  y\n",
            "0 -3.701364 -0.629046  1\n",
            "1  0.966034 -1.730585  0\n",
            "2  3.937414  0.280557  0\n",
            "3 -0.622573  0.659318  1\n",
            "4 -0.480439 -0.154834  0\n",
            "\n",
            "\n",
            "Test DF:\n",
            "          X1        X2  y\n",
            "0 -2.839610 -0.150850  1\n",
            "1  3.080236 -1.450715  0\n",
            "2  3.301330 -0.371411  0\n",
            "3  2.828411 -1.601847  0\n",
            "4  2.926306 -1.645935  0\n"
          ],
          "name": "stdout"
        }
      ]
    },
    {
      "cell_type": "code",
      "metadata": {
        "colab": {
          "base_uri": "https://localhost:8080/",
          "height": 458
        },
        "id": "cAlt8OvKvc7b",
        "outputId": "f9e36ad1-f391-4a11-d6bb-7173ad490e7e"
      },
      "source": [
        "plot_points(df_train, \"og\", \"train\")"
      ],
      "execution_count": null,
      "outputs": [
        {
          "output_type": "display_data",
          "data": {
            "image/png": "[encoded data removed]",
            "text/plain": [
              "<Figure size 864x504 with 1 Axes>"
            ]
          },
          "metadata": {
            "tags": [],
            "needs_background": "light"
          }
        }
      ]
    },
    {
      "cell_type": "code",
      "metadata": {
        "colab": {
          "base_uri": "https://localhost:8080/",
          "height": 458
        },
        "id": "uqUrVNKxwgyM",
        "outputId": "91efef2b-13a6-4fd9-a2ee-aab30a2729ee"
      },
      "source": [
        "plot_points(df_test, \"og\", \"test\")"
      ],
      "execution_count": null,
      "outputs": [
        {
          "output_type": "display_data",
          "data": {
            "image/png": "[encoded data removed]",
            "text/plain": [
              "<Figure size 864x504 with 1 Axes>"
            ]
          },
          "metadata": {
            "tags": [],
            "needs_background": "light"
          }
        }
      ]
    },
    {
      "cell_type": "markdown",
      "metadata": {
        "id": "DijQs8padVFF"
      },
      "source": [
        "### **Network with One Hidden Layer with 10 Neurons:**\n",
        "\n",
        "---\n",
        "\n"
      ]
    },
    {
      "cell_type": "code",
      "metadata": {
        "colab": {
          "base_uri": "https://localhost:8080/"
        },
        "id": "FfE9bbuupSQT",
        "outputId": "a1546439-12d6-46ae-85f9-ee4dc70e5f74"
      },
      "source": [
        "model, hidden_layer_size, epochs, learning_rate = initialize_network()\n",
        "show_params(model, hidden_layer_size, \"initial\")"
      ],
      "execution_count": null,
      "outputs": [
        {
          "output_type": "stream",
          "text": [
            "Fixed Input and Output Size of 2 ('Enter 2')\n",
            "Enter Number of Neurons of Input Layer: 2\n",
            "Enter Number of Neurons of Output Layer: 2\n",
            "Enter Number of Hidden Layers:1\n",
            "Enter Number of Neurons in Hidden Layer 1: 10\n",
            "Enter Activation Functions ('relu', 'sigmoid', 'identity', 'tanh')\n",
            "Enter Activation Function for Hidden Layer 1: relu\n",
            "Enter Activation Function for Output Layer: sigmoid\n",
            "Enter Number of Epochs: 10\n",
            "Enter value of Learning Rate: 0.02\n",
            "Enter Dropout Value: 0.2\n",
            "\n",
            "\n",
            "Initial Weights and Biases of Network:\n",
            "=======================================\n",
            "\n",
            "Weights of Hidden Layer: 1\n",
            "==========================\n",
            "Parameter containing:\n",
            "tensor([[ 0.1235,  0.5214],\n",
            "        [-0.3092,  0.3946],\n",
            "        [ 0.3300, -0.5162],\n",
            "        [-0.2629,  0.3667],\n",
            "        [ 0.1829,  0.4755],\n",
            "        [-0.6736, -0.6754],\n",
            "        [ 0.6599,  0.4085],\n",
            "        [-0.5790,  0.5425],\n",
            "        [-0.1895,  0.5414],\n",
            "        [ 0.0215,  0.0635]], requires_grad=True)\n",
            "\n",
            "Bias of Hidden Layer: 1\n",
            "========================\n",
            "Parameter containing:\n",
            "tensor([ 0.4094, -0.3327,  0.0373,  0.3746,  0.3504, -0.4882,  0.2709, -0.2092,\n",
            "        -0.4035, -0.6462], requires_grad=True)\n",
            "\n"
          ],
          "name": "stdout"
        }
      ]
    },
    {
      "cell_type": "code",
      "metadata": {
        "colab": {
          "base_uri": "https://localhost:8080/"
        },
        "id": "IRZMHpcj964v",
        "outputId": "e3de2951-5936-40a5-9a35-3e7267d1d41b"
      },
      "source": [
        "model, train_preds, test_preds = runNN(model, X_train, X_test, y_train, y_test, epochs, criterion, learning_rate)"
      ],
      "execution_count": null,
      "outputs": [
        {
          "output_type": "stream",
          "text": [
            "/usr/local/lib/python3.6/dist-packages/torch/nn/functional.py:1639: UserWarning: nn.functional.sigmoid is deprecated. Use torch.sigmoid instead.\n",
            "  warnings.warn(\"nn.functional.sigmoid is deprecated. Use torch.sigmoid instead.\")\n"
          ],
          "name": "stderr"
        },
        {
          "output_type": "stream",
          "text": [
            "\n",
            "Epoch 1 of 10\n",
            "=================\n",
            " Training Loss: 0.3675 Test Loss: 0.3307\n",
            " Train Accuracy: 98.6000 Classification Error (Train): 1.4000\n",
            " Test Accuracy: 98.5000 Classification Error (Test): 1.5000\n",
            "\n",
            "\n",
            "Epoch 2 of 10\n",
            "=================\n",
            " Training Loss: 0.3381 Test Loss: 0.3303\n",
            " Train Accuracy: 98.6000 Classification Error (Train): 1.4000\n",
            " Test Accuracy: 98.4000 Classification Error (Test): 1.6000\n",
            "\n",
            "\n",
            "Epoch 3 of 10\n",
            "=================\n",
            " Training Loss: 0.3344 Test Loss: 0.3329\n",
            " Train Accuracy: 97.3000 Classification Error (Train): 2.7000\n",
            " Test Accuracy: 97.8000 Classification Error (Test): 2.2000\n",
            "\n",
            "\n",
            "Epoch 4 of 10\n",
            "=================\n",
            " Training Loss: 0.3323 Test Loss: 0.3230\n",
            " Train Accuracy: 99.5000 Classification Error (Train): 0.5000\n",
            " Test Accuracy: 99.0000 Classification Error (Test): 1.0000\n",
            "\n",
            "\n",
            "Epoch 5 of 10\n",
            "=================\n",
            " Training Loss: 0.3288 Test Loss: 0.3242\n",
            " Train Accuracy: 98.7000 Classification Error (Train): 1.3000\n",
            " Test Accuracy: 99.1000 Classification Error (Test): 0.9000\n",
            "\n",
            "\n",
            "Epoch 6 of 10\n",
            "=================\n",
            " Training Loss: 0.3237 Test Loss: 0.3190\n",
            " Train Accuracy: 99.7000 Classification Error (Train): 0.3000\n",
            " Test Accuracy: 99.4000 Classification Error (Test): 0.6000\n",
            "\n",
            "\n",
            "Epoch 7 of 10\n",
            "=================\n",
            " Training Loss: 0.3272 Test Loss: 0.3164\n",
            " Train Accuracy: 99.7000 Classification Error (Train): 0.3000\n",
            " Test Accuracy: 99.8000 Classification Error (Test): 0.2000\n",
            "\n",
            "\n",
            "Epoch 8 of 10\n",
            "=================\n",
            " Training Loss: 0.3254 Test Loss: 0.3187\n",
            " Train Accuracy: 99.7000 Classification Error (Train): 0.3000\n",
            " Test Accuracy: 99.4000 Classification Error (Test): 0.6000\n",
            "\n",
            "\n",
            "Epoch 9 of 10\n",
            "=================\n",
            " Training Loss: 0.3265 Test Loss: 0.3207\n",
            " Train Accuracy: 99.2000 Classification Error (Train): 0.8000\n",
            " Test Accuracy: 99.4000 Classification Error (Test): 0.6000\n",
            "\n",
            "\n",
            "Epoch 10 of 10\n",
            "=================\n",
            " Training Loss: 0.3257 Test Loss: 0.3161\n",
            " Train Accuracy: 99.7000 Classification Error (Train): 0.3000\n",
            " Test Accuracy: 99.9000 Classification Error (Test): 0.1000\n",
            "\n"
          ],
          "name": "stdout"
        }
      ]
    },
    {
      "cell_type": "code",
      "metadata": {
        "colab": {
          "base_uri": "https://localhost:8080/"
        },
        "id": "YxhnY9KtNkHo",
        "outputId": "80a9c0ce-abb9-4475-845a-3d6508fd6122"
      },
      "source": [
        "show_params(model, hidden_layer_size, \"trained\")"
      ],
      "execution_count": null,
      "outputs": [
        {
          "output_type": "stream",
          "text": [
            "Updated Weights and Biases of Network:\n",
            "=======================================\n",
            "\n",
            "Weights of Hidden Layer: 1\n",
            "==========================\n",
            "Parameter containing:\n",
            "tensor([[-0.6613,  4.3568],\n",
            "        [-1.7901,  1.1479],\n",
            "        [ 2.8793, -1.2570],\n",
            "        [-0.5111,  4.5178],\n",
            "        [-0.3333,  4.4005],\n",
            "        [-2.0352, -0.2897],\n",
            "        [ 3.1337, -0.2339],\n",
            "        [-0.1933,  4.7154],\n",
            "        [-0.8257,  4.4231],\n",
            "        [ 0.0215,  0.0635]], device='cuda:0', requires_grad=True)\n",
            "\n",
            "Bias of Hidden Layer: 1\n",
            "========================\n",
            "Parameter containing:\n",
            "tensor([ 1.1005, -1.8153, -2.6225,  1.0092,  1.0930, -2.1847, -3.6307,  1.3255,\n",
            "         1.1025, -0.6462], device='cuda:0', requires_grad=True)\n",
            "\n"
          ],
          "name": "stdout"
        }
      ]
    },
    {
      "cell_type": "markdown",
      "metadata": {
        "id": "QkpQza-3dhih"
      },
      "source": [
        "### **Network with One Hidden Layer with 30 Neurons:**\n",
        "\n",
        "---\n",
        "\n"
      ]
    },
    {
      "cell_type": "code",
      "metadata": {
        "colab": {
          "base_uri": "https://localhost:8080/"
        },
        "id": "kdULKjtbPXPQ",
        "outputId": "ac874dcc-514b-49ac-aa43-cc9e37668a1e"
      },
      "source": [
        "model, hidden_layer_size, epochs, learning_rate = initialize_network()\n",
        "show_params(model, hidden_layer_size, \"initial\")"
      ],
      "execution_count": null,
      "outputs": [
        {
          "output_type": "stream",
          "text": [
            "Fixed Input and Output Size of 2 ('Enter 2')\n",
            "Enter Number of Neurons of Input Layer: 2\n",
            "Enter Number of Neurons of Output Layer: 2\n",
            "Enter Number of Hidden Layers:1\n",
            "Enter Number of Neurons in Hidden Layer 1: 30\n",
            "Enter Activation Functions ('relu', 'sigmoid', 'identity', 'tanh')\n",
            "Enter Activation Function for Hidden Layer 1: relu\n",
            "Enter Activation Function for Output Layer: sigmoid\n",
            "Enter Number of Epochs: 10\n",
            "Enter value of Learning Rate: 0.02\n",
            "Enter Dropout Value: 0.2\n",
            "\n",
            "\n",
            "Initial Weights and Biases of Network:\n",
            "=======================================\n",
            "\n",
            "Weights of Hidden Layer: 1\n",
            "==========================\n",
            "Parameter containing:\n",
            "tensor([[-0.2814,  0.0295],\n",
            "        [-0.4101, -0.1520],\n",
            "        [-0.6287, -0.0609],\n",
            "        [-0.3836,  0.5235],\n",
            "        [ 0.2070,  0.3988],\n",
            "        [ 0.1751,  0.2762],\n",
            "        [-0.5727,  0.4225],\n",
            "        [-0.2919,  0.6643],\n",
            "        [ 0.0659,  0.4847],\n",
            "        [-0.3738, -0.3788],\n",
            "        [-0.1954,  0.4613],\n",
            "        [ 0.5306,  0.6166],\n",
            "        [ 0.1629,  0.3675],\n",
            "        [ 0.3632, -0.4182],\n",
            "        [ 0.1495, -0.5689],\n",
            "        [ 0.1620, -0.4939],\n",
            "        [-0.1828, -0.1185],\n",
            "        [ 0.0985,  0.3182],\n",
            "        [ 0.3011, -0.3020],\n",
            "        [-0.1238,  0.1191],\n",
            "        [-0.1399, -0.3258],\n",
            "        [-0.3240,  0.4242],\n",
            "        [-0.3967,  0.2100],\n",
            "        [-0.1524,  0.0770],\n",
            "        [-0.0282, -0.3490],\n",
            "        [-0.3351,  0.3420],\n",
            "        [ 0.2244,  0.2152],\n",
            "        [-0.0528, -0.2680],\n",
            "        [-0.1723,  0.1567],\n",
            "        [ 0.4170,  0.1826]], requires_grad=True)\n",
            "\n",
            "Bias of Hidden Layer: 1\n",
            "========================\n",
            "Parameter containing:\n",
            "tensor([ 0.0769,  0.6146,  0.0932, -0.3043, -0.0538,  0.2200,  0.2737, -0.0476,\n",
            "        -0.6513, -0.6213, -0.5494,  0.5078,  0.6616, -0.5853,  0.4373, -0.6958,\n",
            "        -0.1387,  0.2745, -0.1332, -0.2735, -0.2720,  0.0241,  0.2174,  0.2657,\n",
            "         0.3106,  0.6067,  0.1025,  0.3648, -0.3449,  0.6642],\n",
            "       requires_grad=True)\n",
            "\n"
          ],
          "name": "stdout"
        }
      ]
    },
    {
      "cell_type": "code",
      "metadata": {
        "colab": {
          "base_uri": "https://localhost:8080/"
        },
        "id": "gIZtPhIqPjZP",
        "outputId": "85644cb5-c594-472d-c62c-debd8d699af5"
      },
      "source": [
        "model, train_preds, test_preds = runNN(model, X_train, X_test, y_train, y_test, epochs, criterion, learning_rate)"
      ],
      "execution_count": null,
      "outputs": [
        {
          "output_type": "stream",
          "text": [
            "/usr/local/lib/python3.6/dist-packages/torch/nn/functional.py:1639: UserWarning: nn.functional.sigmoid is deprecated. Use torch.sigmoid instead.\n",
            "  warnings.warn(\"nn.functional.sigmoid is deprecated. Use torch.sigmoid instead.\")\n"
          ],
          "name": "stderr"
        },
        {
          "output_type": "stream",
          "text": [
            "\n",
            "Epoch 1 of 10\n",
            "=================\n",
            " Training Loss: 0.3394 Test Loss: 0.3162\n",
            " Train Accuracy: 100.0000 Classification Error (Train): 0.0000\n",
            " Test Accuracy: 100.0000 Classification Error (Test): 0.0000\n",
            "\n",
            "\n",
            "Epoch 2 of 10\n",
            "=================\n",
            " Training Loss: 0.3263 Test Loss: 0.3192\n",
            " Train Accuracy: 99.6000 Classification Error (Train): 0.4000\n",
            " Test Accuracy: 99.7000 Classification Error (Test): 0.3000\n",
            "\n",
            "\n",
            "Epoch 3 of 10\n",
            "=================\n",
            " Training Loss: 0.3162 Test Loss: 0.3136\n",
            " Train Accuracy: 100.0000 Classification Error (Train): 0.0000\n",
            " Test Accuracy: 100.0000 Classification Error (Test): 0.0000\n",
            "\n",
            "\n",
            "Epoch 4 of 10\n",
            "=================\n",
            " Training Loss: 0.3165 Test Loss: 0.3134\n",
            " Train Accuracy: 100.0000 Classification Error (Train): 0.0000\n",
            " Test Accuracy: 100.0000 Classification Error (Test): 0.0000\n",
            "\n",
            "\n",
            "Epoch 5 of 10\n",
            "=================\n",
            " Training Loss: 0.3156 Test Loss: 0.3136\n",
            " Train Accuracy: 100.0000 Classification Error (Train): 0.0000\n",
            " Test Accuracy: 100.0000 Classification Error (Test): 0.0000\n",
            "\n",
            "\n",
            "Epoch 6 of 10\n",
            "=================\n",
            " Training Loss: 0.3152 Test Loss: 0.3134\n",
            " Train Accuracy: 100.0000 Classification Error (Train): 0.0000\n",
            " Test Accuracy: 100.0000 Classification Error (Test): 0.0000\n",
            "\n",
            "\n",
            "Epoch 7 of 10\n",
            "=================\n",
            " Training Loss: 0.3139 Test Loss: 0.3138\n",
            " Train Accuracy: 100.0000 Classification Error (Train): 0.0000\n",
            " Test Accuracy: 100.0000 Classification Error (Test): 0.0000\n",
            "\n",
            "\n",
            "Epoch 8 of 10\n",
            "=================\n",
            " Training Loss: 0.3141 Test Loss: 0.3133\n",
            " Train Accuracy: 100.0000 Classification Error (Train): 0.0000\n",
            " Test Accuracy: 100.0000 Classification Error (Test): 0.0000\n",
            "\n",
            "\n",
            "Epoch 9 of 10\n",
            "=================\n",
            " Training Loss: 0.3167 Test Loss: 0.3138\n",
            " Train Accuracy: 100.0000 Classification Error (Train): 0.0000\n",
            " Test Accuracy: 100.0000 Classification Error (Test): 0.0000\n",
            "\n",
            "\n",
            "Epoch 10 of 10\n",
            "=================\n",
            " Training Loss: 0.3137 Test Loss: 0.3133\n",
            " Train Accuracy: 100.0000 Classification Error (Train): 0.0000\n",
            " Test Accuracy: 100.0000 Classification Error (Test): 0.0000\n",
            "\n"
          ],
          "name": "stdout"
        }
      ]
    },
    {
      "cell_type": "code",
      "metadata": {
        "colab": {
          "base_uri": "https://localhost:8080/"
        },
        "id": "qwI5YPcOdt8P",
        "outputId": "0fe6f746-0dbd-4901-e7bf-44065a1bd83e"
      },
      "source": [
        "show_params(model, hidden_layer_size, \"trained\")"
      ],
      "execution_count": null,
      "outputs": [
        {
          "output_type": "stream",
          "text": [
            "Updated Weights and Biases of Network:\n",
            "=======================================\n",
            "\n",
            "Weights of Hidden Layer: 1\n",
            "==========================\n",
            "Parameter containing:\n",
            "tensor([[-1.9375,  0.5096],\n",
            "        [-0.2783,  2.6020],\n",
            "        [-2.2151,  0.3402],\n",
            "        [-1.8081,  0.3400],\n",
            "        [ 2.2250,  1.2093],\n",
            "        [-0.0253,  2.3000],\n",
            "        [ 0.6532,  3.9191],\n",
            "        [-0.1957,  2.5763],\n",
            "        [ 2.5123,  2.2682],\n",
            "        [-1.8178, -0.0615],\n",
            "        [-2.3953,  0.6501],\n",
            "        [ 2.3410,  0.4948],\n",
            "        [ 1.0228,  4.0563],\n",
            "        [ 2.0548,  0.2219],\n",
            "        [ 0.0389, -1.9001],\n",
            "        [-0.0220, -2.7763],\n",
            "        [-1.5464,  0.1253],\n",
            "        [ 1.7372,  0.1513],\n",
            "        [-0.4383, -3.1509],\n",
            "        [-1.6241,  0.4343],\n",
            "        [-2.0830, -0.3792],\n",
            "        [-0.3254,  2.1257],\n",
            "        [-0.1162,  0.4149],\n",
            "        [ 0.2832,  1.9907],\n",
            "        [-0.0591, -2.9356],\n",
            "        [ 0.1897,  2.2733],\n",
            "        [ 2.0052,  0.5610],\n",
            "        [ 0.7013, -1.0793],\n",
            "        [-2.1205,  0.4699],\n",
            "        [-0.8806, -3.5521]], device='cuda:0', requires_grad=True)\n",
            "\n",
            "Bias of Hidden Layer: 1\n",
            "========================\n",
            "Parameter containing:\n",
            "tensor([-1.6757,  0.3413, -1.7694, -1.9593, -2.6029,  0.7074,  1.2150,  0.6210,\n",
            "        -2.7517, -2.0369, -1.6445, -2.1654,  1.3778, -2.7190,  0.4408,  0.6152,\n",
            "        -1.6527, -1.9960,  0.6066, -2.1099, -1.7856,  0.2610, -0.2893,  0.7522,\n",
            "         0.5958,  0.8121, -2.2250, -0.5051, -1.7162,  0.8814], device='cuda:0',\n",
            "       requires_grad=True)\n",
            "\n"
          ],
          "name": "stdout"
        }
      ]
    },
    {
      "cell_type": "markdown",
      "metadata": {
        "id": "T_wYvZJwdwjD"
      },
      "source": [
        "### **Network with One Hidden Layer with 50 Neurons:**\n",
        "\n",
        "---\n",
        "\n"
      ]
    },
    {
      "cell_type": "code",
      "metadata": {
        "colab": {
          "base_uri": "https://localhost:8080/"
        },
        "id": "vp5-COVPd1yI",
        "outputId": "d1983a93-dd57-47ad-ba98-3ea5ce8a09ca"
      },
      "source": [
        "model, hidden_layer_size, epochs, learning_rate = initialize_network()\n",
        "show_params(model, hidden_layer_size, \"initial\")"
      ],
      "execution_count": null,
      "outputs": [
        {
          "output_type": "stream",
          "text": [
            "Fixed Input and Output Size of 2 ('Enter 2')\n",
            "Enter Number of Neurons of Input Layer: 2\n",
            "Enter Number of Neurons of Output Layer: 2\n",
            "Enter Number of Hidden Layers:1\n",
            "Enter Number of Neurons in Hidden Layer 1: 50\n",
            "Enter Activation Functions ('relu', 'sigmoid', 'identity', 'tanh')\n",
            "Enter Activation Function for Hidden Layer 1: relu\n",
            "Enter Activation Function for Output Layer: sigmoid\n",
            "Enter Number of Epochs: 10\n",
            "Enter value of Learning Rate: 0.02\n",
            "Enter Dropout Value: 0.2\n",
            "\n",
            "\n",
            "Initial Weights and Biases of Network:\n",
            "=======================================\n",
            "\n",
            "Weights of Hidden Layer: 1\n",
            "==========================\n",
            "Parameter containing:\n",
            "tensor([[-0.4440,  0.5840],\n",
            "        [ 0.2169,  0.6307],\n",
            "        [-0.5072,  0.1151],\n",
            "        [-0.6653, -0.2866],\n",
            "        [-0.1426, -0.5849],\n",
            "        [-0.3311,  0.3261],\n",
            "        [-0.3300,  0.5201],\n",
            "        [ 0.1383, -0.3867],\n",
            "        [ 0.1251,  0.5133],\n",
            "        [ 0.1891,  0.6318],\n",
            "        [-0.2633, -0.3714],\n",
            "        [ 0.3142, -0.3760],\n",
            "        [-0.6957,  0.5863],\n",
            "        [-0.0314,  0.6774],\n",
            "        [-0.3852, -0.1560],\n",
            "        [ 0.0050,  0.3615],\n",
            "        [ 0.7004,  0.4521],\n",
            "        [-0.5861,  0.0063],\n",
            "        [-0.6411,  0.0676],\n",
            "        [-0.5709, -0.5690],\n",
            "        [ 0.0889,  0.1266],\n",
            "        [-0.6834, -0.1211],\n",
            "        [-0.4975,  0.4889],\n",
            "        [ 0.1407,  0.5060],\n",
            "        [ 0.4943, -0.6538],\n",
            "        [-0.0482,  0.3376],\n",
            "        [ 0.6232,  0.6220],\n",
            "        [ 0.6963,  0.4045],\n",
            "        [-0.4972, -0.0877],\n",
            "        [ 0.1015,  0.0288],\n",
            "        [-0.6501,  0.5101],\n",
            "        [-0.1627,  0.5185],\n",
            "        [ 0.6523, -0.4252],\n",
            "        [ 0.4116, -0.3111],\n",
            "        [ 0.3729,  0.5809],\n",
            "        [-0.5523,  0.1891],\n",
            "        [ 0.2560,  0.3330],\n",
            "        [-0.2122, -0.0237],\n",
            "        [ 0.6803,  0.5242],\n",
            "        [ 0.5029, -0.5571],\n",
            "        [-0.3972, -0.6370],\n",
            "        [-0.1931,  0.6141],\n",
            "        [ 0.1075, -0.4005],\n",
            "        [ 0.5669, -0.5844],\n",
            "        [-0.1868, -0.1093],\n",
            "        [-0.4207, -0.6199],\n",
            "        [-0.4953, -0.2637],\n",
            "        [-0.1696,  0.0060],\n",
            "        [-0.3294,  0.2964],\n",
            "        [ 0.6165, -0.4309]], requires_grad=True)\n",
            "\n",
            "Bias of Hidden Layer: 1\n",
            "========================\n",
            "Parameter containing:\n",
            "tensor([ 0.3310,  0.0045,  0.0637, -0.3460,  0.1783,  0.4924,  0.7064,  0.1479,\n",
            "        -0.1021,  0.5555, -0.1351,  0.5652,  0.0358, -0.5733, -0.0026, -0.5708,\n",
            "        -0.2238, -0.1708,  0.5362,  0.5422,  0.5467, -0.4923,  0.1744,  0.6758,\n",
            "         0.4245, -0.5064, -0.5837, -0.0918,  0.6322,  0.6935,  0.0817, -0.6683,\n",
            "        -0.6119,  0.0983,  0.0131,  0.2964,  0.4827, -0.6747, -0.0686, -0.6734,\n",
            "        -0.0405,  0.6584,  0.4123, -0.5513, -0.3562, -0.6993,  0.2599,  0.6763,\n",
            "        -0.6466,  0.4245], requires_grad=True)\n",
            "\n"
          ],
          "name": "stdout"
        }
      ]
    },
    {
      "cell_type": "code",
      "metadata": {
        "colab": {
          "base_uri": "https://localhost:8080/"
        },
        "id": "DSHXJuMzd6G1",
        "outputId": "32f3a4fa-bddc-439f-fcd4-e4c0d7e44ff6"
      },
      "source": [
        "model, train_preds, test_preds = runNN(model, X_train, X_test, y_train, y_test, epochs, criterion, learning_rate)"
      ],
      "execution_count": null,
      "outputs": [
        {
          "output_type": "stream",
          "text": [
            "/usr/local/lib/python3.6/dist-packages/torch/nn/functional.py:1639: UserWarning: nn.functional.sigmoid is deprecated. Use torch.sigmoid instead.\n",
            "  warnings.warn(\"nn.functional.sigmoid is deprecated. Use torch.sigmoid instead.\")\n"
          ],
          "name": "stderr"
        },
        {
          "output_type": "stream",
          "text": [
            "\n",
            "Epoch 1 of 10\n",
            "=================\n",
            " Training Loss: 0.3361 Test Loss: 0.3341\n",
            " Train Accuracy: 96.6000 Classification Error (Train): 3.4000\n",
            " Test Accuracy: 97.6000 Classification Error (Test): 2.4000\n",
            "\n",
            "\n",
            "Epoch 2 of 10\n",
            "=================\n",
            " Training Loss: 0.3185 Test Loss: 0.3146\n",
            " Train Accuracy: 100.0000 Classification Error (Train): 0.0000\n",
            " Test Accuracy: 100.0000 Classification Error (Test): 0.0000\n",
            "\n",
            "\n",
            "Epoch 3 of 10\n",
            "=================\n",
            " Training Loss: 0.3162 Test Loss: 0.3139\n",
            " Train Accuracy: 100.0000 Classification Error (Train): 0.0000\n",
            " Test Accuracy: 100.0000 Classification Error (Test): 0.0000\n",
            "\n",
            "\n",
            "Epoch 4 of 10\n",
            "=================\n",
            " Training Loss: 0.3143 Test Loss: 0.3133\n",
            " Train Accuracy: 100.0000 Classification Error (Train): 0.0000\n",
            " Test Accuracy: 100.0000 Classification Error (Test): 0.0000\n",
            "\n",
            "\n",
            "Epoch 5 of 10\n",
            "=================\n",
            " Training Loss: 0.3150 Test Loss: 0.3135\n",
            " Train Accuracy: 100.0000 Classification Error (Train): 0.0000\n",
            " Test Accuracy: 100.0000 Classification Error (Test): 0.0000\n",
            "\n",
            "\n",
            "Epoch 6 of 10\n",
            "=================\n",
            " Training Loss: 0.3147 Test Loss: 0.3135\n",
            " Train Accuracy: 100.0000 Classification Error (Train): 0.0000\n",
            " Test Accuracy: 100.0000 Classification Error (Test): 0.0000\n",
            "\n",
            "\n",
            "Epoch 7 of 10\n",
            "=================\n",
            " Training Loss: 0.3136 Test Loss: 0.3133\n",
            " Train Accuracy: 100.0000 Classification Error (Train): 0.0000\n",
            " Test Accuracy: 100.0000 Classification Error (Test): 0.0000\n",
            "\n",
            "\n",
            "Epoch 8 of 10\n",
            "=================\n",
            " Training Loss: 0.3149 Test Loss: 0.3133\n",
            " Train Accuracy: 100.0000 Classification Error (Train): 0.0000\n",
            " Test Accuracy: 100.0000 Classification Error (Test): 0.0000\n",
            "\n",
            "\n",
            "Epoch 9 of 10\n",
            "=================\n",
            " Training Loss: 0.3158 Test Loss: 0.3148\n",
            " Train Accuracy: 100.0000 Classification Error (Train): 0.0000\n",
            " Test Accuracy: 99.8000 Classification Error (Test): 0.2000\n",
            "\n",
            "\n",
            "Epoch 10 of 10\n",
            "=================\n",
            " Training Loss: 0.3134 Test Loss: 0.3133\n",
            " Train Accuracy: 100.0000 Classification Error (Train): 0.0000\n",
            " Test Accuracy: 100.0000 Classification Error (Test): 0.0000\n",
            "\n"
          ],
          "name": "stdout"
        }
      ]
    },
    {
      "cell_type": "code",
      "metadata": {
        "colab": {
          "base_uri": "https://localhost:8080/"
        },
        "id": "vKrO6xjsd8xQ",
        "outputId": "86337074-7abf-4b96-ea21-450cdb2a2576"
      },
      "source": [
        "show_params(model, hidden_layer_size, \"trained\")"
      ],
      "execution_count": null,
      "outputs": [
        {
          "output_type": "stream",
          "text": [
            "Updated Weights and Biases of Network:\n",
            "=======================================\n",
            "\n",
            "Weights of Hidden Layer: 1\n",
            "==========================\n",
            "Parameter containing:\n",
            "tensor([[ 0.4091,  2.5456],\n",
            "        [ 1.7036,  1.6354],\n",
            "        [-2.2406,  1.0357],\n",
            "        [-2.4964, -0.0363],\n",
            "        [ 0.1645, -1.0765],\n",
            "        [ 0.1340,  2.4428],\n",
            "        [-0.3904,  2.9069],\n",
            "        [ 0.6467, -1.6792],\n",
            "        [ 1.5407,  1.0524],\n",
            "        [ 0.4649,  2.6009],\n",
            "        [-2.1772,  0.2507],\n",
            "        [-0.2997, -2.4225],\n",
            "        [-2.3582,  1.5013],\n",
            "        [-1.8529,  0.9686],\n",
            "        [-1.8330,  0.1484],\n",
            "        [ 0.0050,  0.3615],\n",
            "        [ 2.0493,  0.8540],\n",
            "        [-2.5340,  0.4091],\n",
            "        [-0.6778,  1.0673],\n",
            "        [-0.5813, -1.7651],\n",
            "        [-0.3504, -2.4461],\n",
            "        [-1.8586,  0.2739],\n",
            "        [ 0.6862,  2.9158],\n",
            "        [-0.0861,  0.4915],\n",
            "        [-0.3594, -3.0150],\n",
            "        [-0.0482,  0.3376],\n",
            "        [ 1.9545,  1.4880],\n",
            "        [ 2.1449,  1.0134],\n",
            "        [-0.5478,  1.3936],\n",
            "        [-0.8237, -2.8080],\n",
            "        [ 0.6156,  2.5882],\n",
            "        [-0.0484,  0.4042],\n",
            "        [ 1.7166,  0.3334],\n",
            "        [-0.5205, -3.1267],\n",
            "        [ 1.3666,  1.2118],\n",
            "        [-1.4501,  1.3974],\n",
            "        [-0.1407, -0.0101],\n",
            "        [-1.8972,  0.1608],\n",
            "        [ 1.4744,  0.9964],\n",
            "        [ 1.9714,  0.3983],\n",
            "        [-1.9545,  0.2521],\n",
            "        [ 0.2536,  2.0904],\n",
            "        [-0.2276, -2.0676],\n",
            "        [ 1.5579, -0.2152],\n",
            "        [-2.5115, -0.3210],\n",
            "        [-2.3840, -0.1626],\n",
            "        [-0.1032, -1.4314],\n",
            "        [-0.9765,  1.4190],\n",
            "        [-0.2148,  0.1593],\n",
            "        [-1.0074, -2.6794]], device='cuda:0', requires_grad=True)\n",
            "\n",
            "Bias of Hidden Layer: 1\n",
            "========================\n",
            "Parameter containing:\n",
            "tensor([ 0.7735, -2.0197, -1.7258, -1.8462, -0.5779,  0.9110,  0.7571, -0.5164,\n",
            "        -1.9104,  0.8822, -2.2304,  0.3104, -1.7609, -1.0204, -1.7757, -0.5708,\n",
            "        -1.7801, -2.3804, -0.4264,  0.4832,  0.6654, -1.9274,  0.7105, -1.0670,\n",
            "         0.1501, -0.5064, -2.3537, -2.3962, -0.7612,  0.8451,  1.1290, -0.7827,\n",
            "        -1.9558,  0.8286, -1.6531, -1.0877, -0.6087, -1.8857, -1.9230, -2.0347,\n",
            "        -2.1368,  0.4720,  0.3523, -1.5798, -1.7178, -2.3446,  0.3901, -1.1849,\n",
            "        -0.7688,  0.7200], device='cuda:0', requires_grad=True)\n",
            "\n"
          ],
          "name": "stdout"
        }
      ]
    },
    {
      "cell_type": "markdown",
      "metadata": {
        "id": "EmZNpv-9eSkG"
      },
      "source": [
        "### **Network with Two Hidden Layer with 10 Neurons:**\n",
        "\n",
        "---\n",
        "\n"
      ]
    },
    {
      "cell_type": "code",
      "metadata": {
        "colab": {
          "base_uri": "https://localhost:8080/"
        },
        "id": "yVK5tXIseKNw",
        "outputId": "db261b98-a0f2-4df0-8473-638065149981"
      },
      "source": [
        "model, hidden_layer_size, epochs, learning_rate = initialize_network()\n",
        "show_params(model, hidden_layer_size, \"initial\")"
      ],
      "execution_count": null,
      "outputs": [
        {
          "output_type": "stream",
          "text": [
            "Fixed Input and Output Size of 2 ('Enter 2')\n",
            "Enter Number of Neurons of Input Layer: 2\n",
            "Enter Number of Neurons of Output Layer: 2\n",
            "Enter Number of Hidden Layers:2\n",
            "Enter Number of Neurons in Hidden Layer 1: 10\n",
            "Enter Number of Neurons in Hidden Layer 2: 10\n",
            "Enter Activation Functions ('relu', 'sigmoid', 'identity', 'tanh')\n",
            "Enter Activation Function for Hidden Layer 1: relu\n",
            "Enter Activation Function for Hidden Layer 2: relu\n",
            "Enter Activation Function for Output Layer: sigmoid\n",
            "Enter Number of Epochs: 10\n",
            "Enter value of Learning Rate: 0.02\n",
            "Enter Dropout Value: 0.2\n",
            "\n",
            "\n",
            "Initial Weights and Biases of Network:\n",
            "=======================================\n",
            "\n",
            "Weights of Hidden Layer: 1\n",
            "==========================\n",
            "Parameter containing:\n",
            "tensor([[-0.1406, -0.1399],\n",
            "        [-0.4264, -0.4512],\n",
            "        [ 0.6664,  0.0529],\n",
            "        [ 0.2609,  0.5604],\n",
            "        [ 0.1977, -0.3915],\n",
            "        [-0.1098, -0.5514],\n",
            "        [-0.2046,  0.4833],\n",
            "        [-0.3091,  0.3941],\n",
            "        [ 0.6791, -0.6223],\n",
            "        [ 0.4555,  0.0082]], requires_grad=True)\n",
            "\n",
            "Bias of Hidden Layer: 1\n",
            "========================\n",
            "Parameter containing:\n",
            "tensor([ 0.6782, -0.0406,  0.6513, -0.2777, -0.1816, -0.2592,  0.4356,  0.2467,\n",
            "         0.1310,  0.0116], requires_grad=True)\n",
            "\n",
            "Weights of Hidden Layer: 2\n",
            "==========================\n",
            "Parameter containing:\n",
            "tensor([[ 0.1324, -0.1508, -0.0630,  0.1045, -0.0303, -0.2621,  0.2632, -0.1392,\n",
            "         -0.0618, -0.2383],\n",
            "        [-0.2238, -0.2945, -0.1814, -0.0397, -0.1761,  0.1570, -0.2396, -0.2399,\n",
            "          0.1168, -0.2635],\n",
            "        [-0.0042, -0.2822,  0.3077,  0.0029,  0.1222, -0.1518,  0.1115, -0.3079,\n",
            "          0.1476,  0.0203],\n",
            "        [-0.2167, -0.2526,  0.2195,  0.0562,  0.2263, -0.1750,  0.1977, -0.2146,\n",
            "         -0.1417, -0.2479],\n",
            "        [-0.0179,  0.2530,  0.0668, -0.2414, -0.2947, -0.0871, -0.2336,  0.2634,\n",
            "          0.1893,  0.0934],\n",
            "        [ 0.0871, -0.2140,  0.2151, -0.1395, -0.1217, -0.2379,  0.1500, -0.1667,\n",
            "         -0.3049,  0.2532],\n",
            "        [ 0.0693,  0.1434,  0.0842, -0.1206,  0.0916, -0.2339,  0.2498,  0.2258,\n",
            "          0.2003,  0.0370],\n",
            "        [-0.0749,  0.2931,  0.0084, -0.1071,  0.0933, -0.1390,  0.0646, -0.0382,\n",
            "         -0.3125,  0.1421],\n",
            "        [-0.2707, -0.1029, -0.1529, -0.0481, -0.0423, -0.3088,  0.1888,  0.2523,\n",
            "          0.0973, -0.2986],\n",
            "        [ 0.2592, -0.1791,  0.1523, -0.0700,  0.1086, -0.0228, -0.3067,  0.1990,\n",
            "         -0.0327, -0.3154]], requires_grad=True)\n",
            "\n",
            "Bias of Hidden Layer: 2\n",
            "========================\n",
            "Parameter containing:\n",
            "tensor([ 0.0666, -0.1171,  0.2015, -0.2515,  0.0858,  0.3035,  0.2764, -0.2855,\n",
            "        -0.1935,  0.1790], requires_grad=True)\n",
            "\n"
          ],
          "name": "stdout"
        }
      ]
    },
    {
      "cell_type": "code",
      "metadata": {
        "colab": {
          "base_uri": "https://localhost:8080/"
        },
        "id": "HZT1hf6Pea5P",
        "outputId": "16184c2d-008d-4b90-d916-a65b4cb6ea24"
      },
      "source": [
        "model, train_preds, test_preds = runNN(model, X_train, X_test, y_train, y_test, epochs, criterion, learning_rate)"
      ],
      "execution_count": null,
      "outputs": [
        {
          "output_type": "stream",
          "text": [
            "/usr/local/lib/python3.6/dist-packages/torch/nn/functional.py:1639: UserWarning: nn.functional.sigmoid is deprecated. Use torch.sigmoid instead.\n",
            "  warnings.warn(\"nn.functional.sigmoid is deprecated. Use torch.sigmoid instead.\")\n"
          ],
          "name": "stderr"
        },
        {
          "output_type": "stream",
          "text": [
            "\n",
            "Epoch 1 of 10\n",
            "=================\n",
            " Training Loss: 0.3741 Test Loss: 0.3529\n",
            " Train Accuracy: 96.0000 Classification Error (Train): 4.0000\n",
            " Test Accuracy: 96.1000 Classification Error (Test): 3.9000\n",
            "\n",
            "\n",
            "Epoch 2 of 10\n",
            "=================\n",
            " Training Loss: 0.3565 Test Loss: 0.3263\n",
            " Train Accuracy: 99.0000 Classification Error (Train): 1.0000\n",
            " Test Accuracy: 98.4000 Classification Error (Test): 1.6000\n",
            "\n",
            "\n",
            "Epoch 3 of 10\n",
            "=================\n",
            " Training Loss: 0.3350 Test Loss: 0.3434\n",
            " Train Accuracy: 95.3000 Classification Error (Train): 4.7000\n",
            " Test Accuracy: 96.9000 Classification Error (Test): 3.1000\n",
            "\n",
            "\n",
            "Epoch 4 of 10\n",
            "=================\n",
            " Training Loss: 0.3394 Test Loss: 0.3312\n",
            " Train Accuracy: 97.1000 Classification Error (Train): 2.9000\n",
            " Test Accuracy: 98.1000 Classification Error (Test): 1.9000\n",
            "\n",
            "\n",
            "Epoch 5 of 10\n",
            "=================\n",
            " Training Loss: 0.3336 Test Loss: 0.3139\n",
            " Train Accuracy: 100.0000 Classification Error (Train): 0.0000\n",
            " Test Accuracy: 100.0000 Classification Error (Test): 0.0000\n",
            "\n",
            "\n",
            "Epoch 6 of 10\n",
            "=================\n",
            " Training Loss: 0.3302 Test Loss: 0.3191\n",
            " Train Accuracy: 99.5000 Classification Error (Train): 0.5000\n",
            " Test Accuracy: 99.4000 Classification Error (Test): 0.6000\n",
            "\n",
            "\n",
            "Epoch 7 of 10\n",
            "=================\n",
            " Training Loss: 0.3240 Test Loss: 0.3140\n",
            " Train Accuracy: 100.0000 Classification Error (Train): 0.0000\n",
            " Test Accuracy: 99.9000 Classification Error (Test): 0.1000\n",
            "\n",
            "\n",
            "Epoch 8 of 10\n",
            "=================\n",
            " Training Loss: 0.3291 Test Loss: 0.3158\n",
            " Train Accuracy: 100.0000 Classification Error (Train): 0.0000\n",
            " Test Accuracy: 99.7000 Classification Error (Test): 0.3000\n",
            "\n",
            "\n",
            "Epoch 9 of 10\n",
            "=================\n",
            " Training Loss: 0.3243 Test Loss: 0.3133\n",
            " Train Accuracy: 100.0000 Classification Error (Train): 0.0000\n",
            " Test Accuracy: 100.0000 Classification Error (Test): 0.0000\n",
            "\n",
            "\n",
            "Epoch 10 of 10\n",
            "=================\n",
            " Training Loss: 0.3213 Test Loss: 0.3140\n",
            " Train Accuracy: 100.0000 Classification Error (Train): 0.0000\n",
            " Test Accuracy: 99.9000 Classification Error (Test): 0.1000\n",
            "\n"
          ],
          "name": "stdout"
        }
      ]
    },
    {
      "cell_type": "code",
      "metadata": {
        "colab": {
          "base_uri": "https://localhost:8080/"
        },
        "id": "IowHrwWWfRoi",
        "outputId": "65f87687-5554-4ab7-9ee9-dbfba82ba022"
      },
      "source": [
        "show_params(model, hidden_layer_size, \"trained\")"
      ],
      "execution_count": null,
      "outputs": [
        {
          "output_type": "stream",
          "text": [
            "Updated Weights and Biases of Network:\n",
            "=======================================\n",
            "\n",
            "Weights of Hidden Layer: 1\n",
            "==========================\n",
            "Parameter containing:\n",
            "tensor([[-2.2732,  1.5207],\n",
            "        [-2.2657,  0.3614],\n",
            "        [ 0.3503, -3.5123],\n",
            "        [-0.0298,  0.3275],\n",
            "        [ 1.3097, -2.3514],\n",
            "        [ 1.2094, -1.5633],\n",
            "        [-1.2034,  2.4086],\n",
            "        [-1.5701,  2.4991],\n",
            "        [ 1.4234, -1.7236],\n",
            "        [-0.5532, -3.8391]], device='cuda:0', requires_grad=True)\n",
            "\n",
            "Bias of Hidden Layer: 1\n",
            "========================\n",
            "Parameter containing:\n",
            "tensor([-1.4870, -2.1063, -0.3803, -0.5144, -1.2697, -1.1527, -0.2458, -1.1174,\n",
            "        -1.7016,  0.5444], device='cuda:0', requires_grad=True)\n",
            "\n",
            "Weights of Hidden Layer: 2\n",
            "==========================\n",
            "Parameter containing:\n",
            "tensor([[ 0.0279,  1.0286, -2.0410,  0.1045,  0.0091, -1.6820,  0.5307,  0.0394,\n",
            "         -1.2731, -2.4447],\n",
            "        [-1.7793, -2.0413,  1.2979, -0.0397,  1.3868,  1.6014,  0.2242, -1.2660,\n",
            "          2.0670,  1.7116],\n",
            "        [-1.4785, -2.7012,  1.9569,  0.1146,  1.8436,  0.6777, -0.0847, -0.6792,\n",
            "          1.7888,  2.1375],\n",
            "        [-0.2167, -0.2526, -0.0140,  0.0562, -0.0075, -0.4088,  0.0893, -0.2146,\n",
            "         -0.3236, -0.2479],\n",
            "        [-2.8144, -2.2030,  0.5207, -0.1054,  1.6827,  1.7798, -0.5757, -1.2775,\n",
            "          1.6916,  0.7260],\n",
            "        [ 2.8557,  2.7581, -0.2046, -0.2421, -1.2861, -1.7423,  1.1798,  2.9303,\n",
            "         -1.8344, -1.2402],\n",
            "        [ 0.3689,  2.8860, -1.1735, -0.2196, -0.7207, -1.4134,  0.6581,  0.2442,\n",
            "         -1.3008, -1.2551],\n",
            "        [-2.2916, -1.7273,  0.4226, -0.1071,  1.4238,  1.5877, -0.2069, -2.3209,\n",
            "          1.1830,  1.8848],\n",
            "        [ 0.5795,  1.8110, -1.6808, -0.2050, -0.7457, -1.7805,  0.7994,  1.2136,\n",
            "         -1.1425, -1.4506],\n",
            "        [ 1.9343,  2.2101, -0.7282,  0.0327, -0.6998, -1.3363,  0.5676,  1.8702,\n",
            "         -1.3984, -1.4372]], device='cuda:0', requires_grad=True)\n",
            "\n",
            "Bias of Hidden Layer: 2\n",
            "========================\n",
            "Parameter containing:\n",
            "tensor([ 1.4310,  0.0942,  0.3922, -0.3661, -0.6078,  0.6767,  1.3748, -0.0431,\n",
            "         1.0045,  0.5367], device='cuda:0', requires_grad=True)\n",
            "\n"
          ],
          "name": "stdout"
        }
      ]
    },
    {
      "cell_type": "markdown",
      "metadata": {
        "id": "pQ2kJRrWfW_j"
      },
      "source": [
        "### **Network with Two Hidden Layer with 30 Neurons:**\n",
        "\n",
        "---\n",
        "\n"
      ]
    },
    {
      "cell_type": "code",
      "metadata": {
        "colab": {
          "base_uri": "https://localhost:8080/"
        },
        "id": "YGIfqjeEfWSm",
        "outputId": "b68c36a8-5f4b-43d1-cdae-989b142641a7"
      },
      "source": [
        "model, hidden_layer_size, epochs, learning_rate = initialize_network()\n",
        "show_params(model, hidden_layer_size, \"initial\")"
      ],
      "execution_count": null,
      "outputs": [
        {
          "output_type": "stream",
          "text": [
            "Fixed Input and Output Size of 2 ('Enter 2')\n",
            "Enter Number of Neurons of Input Layer: 2\n",
            "Enter Number of Neurons of Output Layer: 2\n",
            "Enter Number of Hidden Layers:2\n",
            "Enter Number of Neurons in Hidden Layer 1: 30\n",
            "Enter Number of Neurons in Hidden Layer 2: 30\n",
            "Enter Activation Functions ('relu', 'sigmoid', 'identity', 'tanh')\n",
            "Enter Activation Function for Hidden Layer 1: relu\n",
            "Enter Activation Function for Hidden Layer 2: relu\n",
            "Enter Activation Function for Output Layer: sigmoid\n",
            "Enter Number of Epochs: 10\n",
            "Enter value of Learning Rate: 0.02\n",
            "Enter Dropout Value: 0.2\n",
            "\n",
            "\n",
            "Initial Weights and Biases of Network:\n",
            "=======================================\n",
            "\n",
            "Weights of Hidden Layer: 1\n",
            "==========================\n",
            "Parameter containing:\n",
            "tensor([[-0.1229,  0.5518],\n",
            "        [ 0.6824,  0.2764],\n",
            "        [ 0.1044,  0.6840],\n",
            "        [-0.4234,  0.1393],\n",
            "        [ 0.3130, -0.1761],\n",
            "        [-0.4673,  0.4063],\n",
            "        [-0.4850,  0.1427],\n",
            "        [ 0.5257,  0.3638],\n",
            "        [-0.3484, -0.4439],\n",
            "        [ 0.0785,  0.2432],\n",
            "        [-0.1155, -0.0214],\n",
            "        [-0.0051,  0.5818],\n",
            "        [ 0.4996,  0.5652],\n",
            "        [ 0.0693, -0.2270],\n",
            "        [ 0.7020, -0.5409],\n",
            "        [ 0.6498, -0.1776],\n",
            "        [-0.5846,  0.4178],\n",
            "        [ 0.5504, -0.4097],\n",
            "        [ 0.2703, -0.1001],\n",
            "        [-0.4112, -0.4890],\n",
            "        [-0.1434, -0.3462],\n",
            "        [-0.4382, -0.6192],\n",
            "        [-0.3710,  0.3010],\n",
            "        [ 0.6439, -0.2470],\n",
            "        [ 0.3113,  0.0820],\n",
            "        [ 0.5261,  0.1634],\n",
            "        [ 0.2033, -0.6010],\n",
            "        [-0.3406,  0.0804],\n",
            "        [-0.3377, -0.6444],\n",
            "        [-0.1215, -0.4214]], requires_grad=True)\n",
            "\n",
            "Bias of Hidden Layer: 1\n",
            "========================\n",
            "Parameter containing:\n",
            "tensor([-0.0572,  0.2664,  0.4670, -0.5109, -0.2210, -0.0127, -0.3774, -0.0583,\n",
            "         0.4342,  0.4375,  0.5450, -0.2286, -0.4595, -0.0951,  0.2908, -0.0863,\n",
            "         0.5360,  0.4488, -0.5835, -0.2565,  0.4615,  0.2776, -0.3110,  0.0426,\n",
            "         0.1475,  0.4822, -0.5187, -0.4994,  0.1606, -0.5324],\n",
            "       requires_grad=True)\n",
            "\n",
            "Weights of Hidden Layer: 2\n",
            "==========================\n",
            "Parameter containing:\n",
            "tensor([[-0.0477, -0.1109, -0.0881, -0.0386,  0.0788,  0.0977, -0.1448, -0.0640,\n",
            "         -0.0723,  0.1451, -0.0117,  0.0393, -0.1402, -0.0229,  0.0608, -0.0575,\n",
            "         -0.0259, -0.0406,  0.0329,  0.1603, -0.0164, -0.0023,  0.1296,  0.0634,\n",
            "         -0.0985, -0.1189, -0.1103, -0.1284,  0.1210,  0.0692],\n",
            "        [-0.0306, -0.0013,  0.1330, -0.1595, -0.1205,  0.0377,  0.0975,  0.1517,\n",
            "         -0.1491, -0.1562,  0.0633, -0.1614,  0.1425, -0.1510,  0.0562,  0.0525,\n",
            "          0.0610, -0.0176, -0.0080,  0.0840, -0.0475,  0.0193,  0.0381,  0.0302,\n",
            "         -0.1318,  0.0270, -0.1213, -0.1804,  0.0451,  0.1795],\n",
            "        [-0.0526, -0.0756, -0.1112, -0.1580,  0.0668, -0.0217, -0.0866, -0.0567,\n",
            "         -0.0069,  0.1786, -0.0615, -0.1585, -0.1509, -0.1540, -0.1070, -0.0689,\n",
            "         -0.0357, -0.1790, -0.1753,  0.1260,  0.1097, -0.0304,  0.1302,  0.1338,\n",
            "         -0.0669, -0.1224, -0.0374,  0.0711,  0.0411, -0.1049],\n",
            "        [-0.1399, -0.1433,  0.0133, -0.0615, -0.1104,  0.0211,  0.0568, -0.0448,\n",
            "         -0.1053,  0.0056,  0.1096,  0.0484,  0.1435,  0.0869, -0.1273, -0.1630,\n",
            "          0.0868,  0.1102, -0.0972,  0.1580,  0.1541,  0.1181, -0.0027, -0.0262,\n",
            "         -0.0503, -0.1597,  0.1411, -0.0508,  0.0135,  0.0527],\n",
            "        [ 0.0089, -0.1080,  0.0942,  0.1021, -0.1258, -0.0815, -0.1235,  0.0665,\n",
            "         -0.0281, -0.0231, -0.1577,  0.1181,  0.0605,  0.1153,  0.0299,  0.0881,\n",
            "         -0.1713,  0.0951,  0.1617, -0.1483,  0.0997,  0.1748,  0.0591, -0.0302,\n",
            "         -0.1791, -0.0989,  0.1798, -0.1209, -0.0054,  0.1366],\n",
            "        [-0.1444, -0.0082, -0.0484,  0.0749, -0.1344, -0.0531, -0.0007,  0.1751,\n",
            "          0.0509,  0.0075, -0.1004, -0.1451,  0.0641, -0.1233,  0.0715, -0.1820,\n",
            "          0.1280, -0.1223, -0.0649, -0.1663, -0.0129, -0.1339, -0.1333, -0.0699,\n",
            "          0.1332,  0.1420,  0.1618,  0.1467, -0.0911, -0.0459],\n",
            "        [ 0.0674,  0.1172,  0.0276,  0.1787,  0.0986, -0.0723, -0.0510,  0.0558,\n",
            "         -0.0108,  0.0354, -0.0331, -0.1515, -0.0353, -0.0025,  0.0312, -0.1092,\n",
            "         -0.0600,  0.0532,  0.1206, -0.0074,  0.0736, -0.0992,  0.1024,  0.1276,\n",
            "          0.1643,  0.0705, -0.1789,  0.1209, -0.1585, -0.0745],\n",
            "        [ 0.0235,  0.0264,  0.0794, -0.0101, -0.0467,  0.0400,  0.1311,  0.1459,\n",
            "          0.1763, -0.1489,  0.0778,  0.1348, -0.0377, -0.0331, -0.0787,  0.1521,\n",
            "         -0.1058, -0.0493,  0.0999, -0.1679, -0.0984, -0.0761,  0.1071, -0.0922,\n",
            "          0.1406,  0.1024,  0.1067, -0.0149,  0.1507, -0.0968],\n",
            "        [-0.1610, -0.0079,  0.0972,  0.0166, -0.0767,  0.0774, -0.0538,  0.0995,\n",
            "          0.0495, -0.0055,  0.1103, -0.1635, -0.1539, -0.0218, -0.1397, -0.0804,\n",
            "          0.0232, -0.0534,  0.0349, -0.0373,  0.1601, -0.1000,  0.0851, -0.0786,\n",
            "         -0.1007,  0.1118,  0.1765,  0.0232, -0.0444,  0.1410],\n",
            "        [ 0.1030,  0.0348,  0.0367,  0.0644,  0.0847, -0.0320,  0.1560,  0.0679,\n",
            "         -0.1672,  0.0205, -0.0378, -0.0236, -0.0182,  0.1347,  0.0025,  0.0657,\n",
            "          0.0661,  0.1526,  0.0421, -0.0864,  0.0050,  0.1262, -0.1428,  0.1648,\n",
            "         -0.1534,  0.1065, -0.0486,  0.0218, -0.1605, -0.0084],\n",
            "        [ 0.1609, -0.0338, -0.0204,  0.1627, -0.0070, -0.1522,  0.0570,  0.0316,\n",
            "         -0.0590, -0.1182,  0.0618, -0.0475,  0.0620,  0.0432,  0.1130,  0.1070,\n",
            "          0.1551, -0.0237, -0.0477, -0.1534,  0.0622, -0.0942,  0.1601, -0.0121,\n",
            "         -0.1607,  0.1518, -0.0959,  0.1743, -0.0126, -0.1409],\n",
            "        [ 0.0481, -0.0210,  0.0102,  0.1475, -0.1134, -0.0076, -0.1292,  0.1346,\n",
            "          0.1223,  0.1670,  0.1083,  0.0224, -0.1670, -0.0141, -0.0811,  0.0543,\n",
            "          0.1323, -0.0633, -0.0484, -0.0091, -0.1379, -0.0466,  0.0515, -0.0972,\n",
            "          0.1016, -0.0027,  0.1461, -0.1416, -0.0629,  0.0581],\n",
            "        [ 0.0373, -0.1008,  0.1434,  0.0260, -0.0775,  0.1118,  0.1021,  0.0713,\n",
            "         -0.0372,  0.1813, -0.0634, -0.0395, -0.0778, -0.0199, -0.0563, -0.0621,\n",
            "         -0.1810, -0.1196, -0.0823, -0.0771,  0.0884, -0.1182,  0.0763, -0.0969,\n",
            "          0.1201,  0.0206, -0.0148,  0.1131, -0.1442,  0.1709],\n",
            "        [ 0.1258, -0.0789,  0.1012, -0.0668, -0.0756,  0.1143, -0.0373, -0.0871,\n",
            "          0.1808, -0.1528,  0.1661, -0.1005, -0.0087, -0.0608, -0.1438, -0.1340,\n",
            "         -0.0582, -0.0298,  0.0501, -0.0303,  0.0088, -0.0782,  0.0558, -0.0169,\n",
            "          0.1225, -0.1306, -0.0375, -0.0916, -0.0593,  0.0452],\n",
            "        [-0.1228, -0.1072,  0.0404, -0.1596,  0.0980,  0.0035, -0.1055, -0.0924,\n",
            "          0.1479, -0.0437,  0.1110, -0.1670, -0.0296, -0.1567,  0.0702,  0.1667,\n",
            "         -0.1275,  0.1688, -0.1325,  0.0490,  0.1204, -0.0887,  0.1762,  0.1326,\n",
            "          0.1434, -0.0885, -0.1608, -0.1296, -0.0548, -0.1068],\n",
            "        [ 0.1328,  0.0469, -0.0918, -0.0098, -0.0439, -0.0411,  0.0008, -0.1174,\n",
            "          0.1375,  0.0041, -0.1724, -0.0918, -0.1086, -0.0115, -0.0718, -0.0401,\n",
            "          0.0410,  0.1456, -0.1373, -0.1272,  0.0865,  0.1502,  0.1585,  0.0844,\n",
            "          0.0491, -0.1494, -0.0450, -0.0202,  0.1023, -0.1245],\n",
            "        [-0.0616,  0.1035, -0.1172,  0.1800, -0.0747, -0.1800,  0.1679,  0.1487,\n",
            "         -0.1580, -0.1580,  0.0618, -0.0761,  0.0627, -0.0026,  0.1375, -0.0999,\n",
            "         -0.0164,  0.0916, -0.0896,  0.0268,  0.0201,  0.0854, -0.1144,  0.1722,\n",
            "         -0.0777,  0.1255, -0.0816, -0.1117, -0.0494, -0.1705],\n",
            "        [-0.1505,  0.0917,  0.0579, -0.0324,  0.0580, -0.1416, -0.0656, -0.0376,\n",
            "         -0.0919,  0.0107,  0.0112, -0.1262,  0.0723, -0.0434,  0.1228, -0.0575,\n",
            "          0.0660, -0.1039,  0.1283, -0.1386,  0.0727,  0.0377, -0.0666, -0.1328,\n",
            "         -0.1015,  0.1489, -0.0425,  0.0353, -0.1482,  0.1816],\n",
            "        [ 0.0757, -0.0245,  0.0342, -0.1676, -0.1152, -0.1348, -0.0529, -0.0767,\n",
            "         -0.0622,  0.0159,  0.0046,  0.1606,  0.1203, -0.1630, -0.1594,  0.0665,\n",
            "         -0.1322, -0.1153, -0.1482,  0.0932,  0.0498,  0.0140, -0.0601, -0.0945,\n",
            "         -0.1670, -0.0237, -0.0188, -0.0575, -0.0758,  0.1605],\n",
            "        [-0.1800, -0.0661, -0.0644,  0.1650, -0.0616,  0.1497,  0.1454, -0.0240,\n",
            "          0.0142,  0.0688, -0.0283,  0.1492, -0.1366, -0.1671, -0.1511,  0.1619,\n",
            "          0.0530,  0.1499,  0.0389, -0.0308,  0.1008,  0.1439, -0.1480,  0.1082,\n",
            "          0.0143,  0.1274, -0.0521,  0.1060, -0.1567,  0.1010],\n",
            "        [ 0.1054,  0.1628,  0.1409,  0.0693,  0.1558,  0.0307, -0.0374,  0.1031,\n",
            "         -0.1421, -0.0134,  0.0506,  0.0945,  0.0045, -0.0815,  0.0895, -0.1252,\n",
            "          0.1449,  0.0090, -0.1172,  0.0778, -0.0340,  0.1079,  0.1587,  0.1533,\n",
            "          0.0352,  0.1031, -0.0501,  0.1499,  0.1323, -0.0463],\n",
            "        [-0.0073, -0.1553, -0.0256, -0.0589,  0.1389, -0.1230,  0.1369, -0.1696,\n",
            "         -0.0577, -0.1093,  0.0632,  0.1427, -0.0628, -0.0797, -0.0886, -0.0378,\n",
            "          0.0063, -0.0787, -0.0101,  0.0209,  0.0861,  0.0169,  0.1679,  0.1165,\n",
            "         -0.0960,  0.1208, -0.0456, -0.0860, -0.0006,  0.1426],\n",
            "        [ 0.1439,  0.0189, -0.0532,  0.0850, -0.1093, -0.0120, -0.1727, -0.1163,\n",
            "         -0.1768,  0.0510, -0.1103, -0.0689,  0.0304, -0.1098, -0.1202, -0.1205,\n",
            "          0.0584,  0.1381, -0.1249, -0.0812,  0.0078,  0.1231,  0.1127, -0.0352,\n",
            "         -0.1666,  0.1127,  0.0921, -0.0265,  0.1535, -0.1398],\n",
            "        [ 0.1133, -0.0234, -0.1604, -0.0975, -0.1567, -0.1016,  0.0234,  0.1330,\n",
            "         -0.0766,  0.1097, -0.0323,  0.1274,  0.1534,  0.0503,  0.1406, -0.0472,\n",
            "         -0.0718, -0.0503,  0.0709,  0.1644,  0.0102, -0.0853, -0.1551,  0.0675,\n",
            "         -0.1190, -0.0667, -0.1156, -0.1571,  0.1759, -0.1295],\n",
            "        [-0.1363, -0.0418,  0.1338, -0.0477,  0.0147,  0.0091, -0.0671,  0.1550,\n",
            "         -0.1099,  0.0185, -0.0581, -0.0209, -0.1702,  0.1453, -0.0639,  0.1743,\n",
            "         -0.1112, -0.0358,  0.1781,  0.1139, -0.1721, -0.0714, -0.1411,  0.0620,\n",
            "         -0.0601, -0.0676,  0.0040,  0.0622, -0.0212,  0.1663],\n",
            "        [ 0.0235,  0.0330, -0.0281, -0.0509,  0.1032, -0.0032,  0.0269,  0.0943,\n",
            "         -0.1637,  0.1028,  0.1727, -0.0995, -0.1705,  0.0859,  0.0129,  0.0040,\n",
            "         -0.0042, -0.0563,  0.1004,  0.1233,  0.0112, -0.1055, -0.1143, -0.0546,\n",
            "          0.1575, -0.0988,  0.1142, -0.1395, -0.1091,  0.0414],\n",
            "        [ 0.1196,  0.0288,  0.0658,  0.1585, -0.0011, -0.0303, -0.0584,  0.1364,\n",
            "          0.1347,  0.0799, -0.1303, -0.1618, -0.1684,  0.0082, -0.1440,  0.1715,\n",
            "         -0.1744,  0.0614,  0.1051, -0.0365, -0.1441,  0.1784,  0.1602, -0.0066,\n",
            "         -0.0692,  0.1652,  0.1701, -0.0294,  0.0127, -0.0544],\n",
            "        [-0.0374,  0.0601, -0.0844,  0.1449, -0.0255,  0.1361,  0.1730, -0.1664,\n",
            "          0.0713, -0.1277, -0.0361, -0.0888, -0.1640,  0.0135, -0.1325, -0.1394,\n",
            "         -0.0428,  0.0353,  0.0816, -0.0504, -0.0482,  0.0105,  0.0419,  0.1242,\n",
            "          0.1425, -0.0687, -0.1256,  0.0136, -0.0940,  0.0318],\n",
            "        [ 0.1690, -0.1355,  0.0718,  0.0635, -0.1637,  0.0145, -0.1660, -0.0247,\n",
            "          0.1484,  0.0701,  0.0195, -0.0924,  0.0925,  0.1389, -0.0681,  0.0789,\n",
            "          0.0877, -0.0931,  0.0730,  0.0617,  0.0479, -0.1629,  0.1727,  0.1771,\n",
            "         -0.1480,  0.1657, -0.0692, -0.0111,  0.1515, -0.0509],\n",
            "        [-0.1800, -0.0193, -0.1083, -0.0456,  0.1242, -0.1735,  0.1055,  0.1759,\n",
            "         -0.0019,  0.0413,  0.0816, -0.0890,  0.1106,  0.0716,  0.1195,  0.0528,\n",
            "          0.1591,  0.1429,  0.0779, -0.0218, -0.0686, -0.0371, -0.1750,  0.0180,\n",
            "         -0.0853, -0.0558,  0.0818,  0.1342,  0.1416,  0.0891]],\n",
            "       requires_grad=True)\n",
            "\n",
            "Bias of Hidden Layer: 2\n",
            "========================\n",
            "Parameter containing:\n",
            "tensor([-0.0579,  0.0886, -0.1439, -0.1719,  0.1032,  0.0651, -0.0897, -0.1647,\n",
            "         0.1559,  0.0342, -0.1368, -0.0094, -0.0322,  0.0874,  0.1717,  0.1704,\n",
            "        -0.0914,  0.1293,  0.1527,  0.0447,  0.1420,  0.1116, -0.0861, -0.0437,\n",
            "        -0.0742, -0.0849, -0.0534, -0.0695, -0.1810, -0.1654],\n",
            "       requires_grad=True)\n",
            "\n"
          ],
          "name": "stdout"
        }
      ]
    },
    {
      "cell_type": "code",
      "metadata": {
        "colab": {
          "base_uri": "https://localhost:8080/"
        },
        "id": "aAbU1iDGfihp",
        "outputId": "dfd0d393-cb26-4a7b-feff-9a5eee8284a3"
      },
      "source": [
        "model, train_preds, test_preds = runNN(model, X_train, X_test, y_train, y_test, epochs, criterion, learning_rate)"
      ],
      "execution_count": null,
      "outputs": [
        {
          "output_type": "stream",
          "text": [
            "/usr/local/lib/python3.6/dist-packages/torch/nn/functional.py:1639: UserWarning: nn.functional.sigmoid is deprecated. Use torch.sigmoid instead.\n",
            "  warnings.warn(\"nn.functional.sigmoid is deprecated. Use torch.sigmoid instead.\")\n"
          ],
          "name": "stderr"
        },
        {
          "output_type": "stream",
          "text": [
            "\n",
            "Epoch 1 of 10\n",
            "=================\n",
            " Training Loss: 0.3495 Test Loss: 0.3171\n",
            " Train Accuracy: 99.6000 Classification Error (Train): 0.4000\n",
            " Test Accuracy: 99.7000 Classification Error (Test): 0.3000\n",
            "\n",
            "\n",
            "Epoch 2 of 10\n",
            "=================\n",
            " Training Loss: 0.3311 Test Loss: 0.3344\n",
            " Train Accuracy: 96.6000 Classification Error (Train): 3.4000\n",
            " Test Accuracy: 97.7000 Classification Error (Test): 2.3000\n",
            "\n",
            "\n",
            "Epoch 3 of 10\n",
            "=================\n",
            " Training Loss: 0.3286 Test Loss: 0.3165\n",
            " Train Accuracy: 99.5000 Classification Error (Train): 0.5000\n",
            " Test Accuracy: 99.7000 Classification Error (Test): 0.3000\n",
            "\n",
            "\n",
            "Epoch 4 of 10\n",
            "=================\n",
            " Training Loss: 0.3368 Test Loss: 0.3153\n",
            " Train Accuracy: 99.4000 Classification Error (Train): 0.6000\n",
            " Test Accuracy: 99.8000 Classification Error (Test): 0.2000\n",
            "\n",
            "\n",
            "Epoch 5 of 10\n",
            "=================\n",
            " Training Loss: 0.3241 Test Loss: 0.3133\n",
            " Train Accuracy: 100.0000 Classification Error (Train): 0.0000\n",
            " Test Accuracy: 100.0000 Classification Error (Test): 0.0000\n",
            "\n",
            "\n",
            "Epoch 6 of 10\n",
            "=================\n",
            " Training Loss: 0.3235 Test Loss: 0.3133\n",
            " Train Accuracy: 100.0000 Classification Error (Train): 0.0000\n",
            " Test Accuracy: 100.0000 Classification Error (Test): 0.0000\n",
            "\n",
            "\n",
            "Epoch 7 of 10\n",
            "=================\n",
            " Training Loss: 0.3149 Test Loss: 0.3133\n",
            " Train Accuracy: 100.0000 Classification Error (Train): 0.0000\n",
            " Test Accuracy: 100.0000 Classification Error (Test): 0.0000\n",
            "\n",
            "\n",
            "Epoch 8 of 10\n",
            "=================\n",
            " Training Loss: 0.3223 Test Loss: 0.3173\n",
            " Train Accuracy: 99.7000 Classification Error (Train): 0.3000\n",
            " Test Accuracy: 99.7000 Classification Error (Test): 0.3000\n",
            "\n",
            "\n",
            "Epoch 9 of 10\n",
            "=================\n",
            " Training Loss: 0.3157 Test Loss: 0.3136\n",
            " Train Accuracy: 100.0000 Classification Error (Train): 0.0000\n",
            " Test Accuracy: 100.0000 Classification Error (Test): 0.0000\n",
            "\n",
            "\n",
            "Epoch 10 of 10\n",
            "=================\n",
            " Training Loss: 0.3138 Test Loss: 0.3133\n",
            " Train Accuracy: 100.0000 Classification Error (Train): 0.0000\n",
            " Test Accuracy: 100.0000 Classification Error (Test): 0.0000\n",
            "\n"
          ],
          "name": "stdout"
        }
      ]
    },
    {
      "cell_type": "code",
      "metadata": {
        "colab": {
          "base_uri": "https://localhost:8080/"
        },
        "id": "bgupFErtfupI",
        "outputId": "f8c6e4a4-1bb1-4f90-d4e9-80c3a926bf5f"
      },
      "source": [
        "show_params(model, hidden_layer_size, \"trained\")"
      ],
      "execution_count": null,
      "outputs": [
        {
          "output_type": "stream",
          "text": [
            "Updated Weights and Biases of Network:\n",
            "=======================================\n",
            "\n",
            "Weights of Hidden Layer: 1\n",
            "==========================\n",
            "Parameter containing:\n",
            "tensor([[-1.1237e+00,  1.3005e+00],\n",
            "        [ 1.6022e+00, -1.0203e+00],\n",
            "        [ 2.4215e-01,  2.2801e+00],\n",
            "        [-1.4577e+00,  6.3790e-01],\n",
            "        [ 1.2679e+00,  3.0364e-01],\n",
            "        [-1.5377e+00,  1.1811e+00],\n",
            "        [-1.5886e+00,  7.6716e-01],\n",
            "        [ 1.7267e+00, -2.7228e-02],\n",
            "        [ 5.4640e-01,  1.8535e+00],\n",
            "        [ 7.4955e-01,  1.9019e+00],\n",
            "        [-1.0750e+00,  1.1291e+00],\n",
            "        [-1.2339e+00,  1.3260e+00],\n",
            "        [ 1.6254e+00,  5.0026e-01],\n",
            "        [-3.4948e-01, -2.1319e+00],\n",
            "        [-3.3187e-01, -3.5101e+00],\n",
            "        [ 1.2464e+00, -2.7989e-01],\n",
            "        [ 4.8307e-01,  2.8528e+00],\n",
            "        [-3.6896e-02, -3.0971e+00],\n",
            "        [ 1.5857e+00, -3.5513e-01],\n",
            "        [-1.8781e+00,  1.9785e-01],\n",
            "        [-1.7721e+00,  5.5892e-01],\n",
            "        [-9.9433e-02, -1.6322e+00],\n",
            "        [-1.4732e+00,  1.5252e+00],\n",
            "        [ 1.6883e+00, -3.0650e-01],\n",
            "        [-1.5257e-01,  2.7605e-01],\n",
            "        [-2.8278e-01,  8.0821e-01],\n",
            "        [ 7.3366e-01, -2.4269e+00],\n",
            "        [-1.7303e+00,  1.2266e+00],\n",
            "        [ 1.1567e-01, -5.1445e-03],\n",
            "        [-2.5468e-03, -2.8987e-01]], device='cuda:0', requires_grad=True)\n",
            "\n",
            "Bias of Hidden Layer: 1\n",
            "========================\n",
            "Parameter containing:\n",
            "tensor([-0.7513, -1.9631,  0.8053, -1.3347, -1.5926, -2.0531, -1.3358, -2.1161,\n",
            "         1.1347,  0.7046, -1.6662, -0.7249, -2.0578,  0.5926,  0.7710, -1.5273,\n",
            "         0.4757,  0.2598, -1.5517, -2.4694, -1.5840, -0.3721, -1.6741, -2.0376,\n",
            "        -0.4041, -0.6275, -0.2994, -1.9254, -0.7677, -0.6568], device='cuda:0',\n",
            "       requires_grad=True)\n",
            "\n",
            "Weights of Hidden Layer: 2\n",
            "==========================\n",
            "Parameter containing:\n",
            "tensor([[ 1.7430e+00, -1.0711e+00,  4.5444e-01,  1.5940e+00, -1.6698e+00,\n",
            "          1.7688e+00,  1.8015e+00, -5.7641e-01,  1.3878e-01, -1.4865e-03,\n",
            "          1.4527e+00,  3.0185e+00, -1.6740e-01,  2.1714e-01, -3.5304e-01,\n",
            "         -3.6289e-01,  2.2968e-01, -1.1404e+00, -1.1644e+00,  3.0453e+00,\n",
            "          1.4677e+00,  2.1045e-01,  1.6163e+00, -9.6174e-01,  2.2488e-01,\n",
            "          9.4370e-01, -6.2254e-02,  1.6841e+00,  2.8754e-01,  1.8935e-01],\n",
            "        [-1.8918e-01, -4.1377e-02,  2.2781e-02, -2.7957e-01, -1.9574e-02,\n",
            "         -8.2371e-02, -2.2636e-02, -2.3720e-01, -2.6917e-01, -1.1491e-01,\n",
            "         -7.4763e-02, -3.4022e-01,  8.7171e-02, -3.5851e-01,  4.0734e-02,\n",
            "          5.2277e-02, -6.2572e-02, -4.1639e-02,  4.6551e-02, -3.6125e-02,\n",
            "         -1.7390e-01, -1.0076e-01, -8.1976e-02,  1.0369e-02, -3.6782e-01,\n",
            "         -2.7129e-02, -3.1027e-01, -1.8040e-01, -7.4967e-02,  5.9356e-02],\n",
            "        [-1.6099e-01, -7.5538e-02, -2.1959e-01, -1.5797e-01,  6.6848e-02,\n",
            "         -1.3008e-01, -8.6579e-02, -5.6642e-02, -1.1531e-01, -1.0373e-01,\n",
            "         -1.6989e-01, -2.6686e-01, -1.5092e-01, -1.5397e-01, -1.0694e-01,\n",
            "         -6.8870e-02, -2.2169e-01, -1.7898e-01, -1.7528e-01,  1.7610e-02,\n",
            "          1.2569e-03, -1.3880e-01,  2.1839e-02,  1.3381e-01, -6.6853e-02,\n",
            "         -1.2236e-01, -3.7418e-02, -3.7279e-02, -6.7256e-02, -1.0493e-01],\n",
            "        [-2.5997e-01, -4.9900e-01,  1.3273e-02, -1.8161e-01, -4.3804e-01,\n",
            "         -9.8964e-02, -6.3288e-02, -4.4793e-02, -2.2548e-01,  5.6395e-03,\n",
            "         -1.0493e-02,  4.8445e-02,  1.4354e-01,  8.6923e-02, -1.2735e-01,\n",
            "         -5.1366e-01, -3.3330e-02, -2.4929e-01, -4.3260e-01,  3.7930e-02,\n",
            "          3.3992e-02, -2.3986e-03, -1.2280e-01, -2.6237e-02, -5.0338e-02,\n",
            "         -4.9758e-01, -2.1813e-01, -5.0793e-02, -1.0673e-01, -6.7389e-02],\n",
            "        [ 1.1439e+00,  1.5013e+00, -7.0279e-01, -1.4726e+00,  1.0331e+00,\n",
            "         -1.5231e+00, -7.3314e-01,  2.2799e+00, -5.5238e-01, -7.8332e-01,\n",
            "         -6.5544e-01,  4.5634e-02,  1.3516e+00,  2.6043e+00,  1.1849e+00,\n",
            "          1.2844e+00, -9.5512e-01,  7.1482e-01,  1.7079e+00, -1.6715e+00,\n",
            "         -1.2613e+00,  1.6264e+00, -1.2502e+00,  1.9545e+00,  1.8176e-01,\n",
            "         -1.1583e-01,  4.2050e-01, -1.4502e+00, -7.1983e-02,  2.4781e-01],\n",
            "        [ 3.7755e-01, -1.1531e+00,  1.3976e+00,  8.7196e-01, -1.6753e+00,\n",
            "          6.7305e-01,  1.7624e+00, -1.0335e+00,  8.3609e-01,  6.8106e-01,\n",
            "          1.0249e+00,  8.4172e-01, -1.3524e+00, -1.3184e+00, -1.5301e+00,\n",
            "         -7.1334e-01,  1.1062e+00, -6.7540e-01, -2.0312e+00,  1.0991e+00,\n",
            "          1.6181e+00, -1.0745e+00,  1.7548e+00, -1.5499e+00,  4.6226e-01,\n",
            "          5.2398e-01, -8.9598e-01,  2.3316e+00, -5.4693e-02, -4.5874e-02],\n",
            "        [-4.4150e-01,  1.6336e+00, -1.3840e+00, -5.3163e-01,  1.2109e+00,\n",
            "         -4.1783e-01, -6.0827e-01,  2.5192e+00,  5.8385e-01, -1.4135e-01,\n",
            "         -2.7817e-01, -1.3788e-01,  1.1325e+00,  1.0395e+00,  5.7899e-01,\n",
            "          1.0703e+00, -1.2241e+00,  4.7056e-01,  2.3929e+00, -6.8705e-01,\n",
            "         -1.1834e+00,  1.0683e+00, -6.9151e-01,  1.9424e+00,  5.2658e-01,\n",
            "         -1.2843e-01,  1.0223e+00, -1.4024e+00,  3.8365e-01, -7.4455e-02],\n",
            "        [-6.1984e-03, -1.7898e+00,  9.8500e-01,  1.5765e+00, -1.6400e+00,\n",
            "          1.2750e+00,  1.6324e+00, -1.3506e+00,  2.8516e-01,  3.4267e-01,\n",
            "          9.3159e-01,  2.9439e-01, -1.6445e+00, -1.1751e+00, -4.4710e-01,\n",
            "         -4.2311e-01,  1.4461e-02, -4.5617e-01, -2.1256e+00,  1.4647e+00,\n",
            "          1.1443e+00, -7.2759e-01,  1.1207e+00, -2.0430e+00, -4.1683e-01,\n",
            "          7.0512e-01, -9.9113e-02,  1.6992e+00,  2.6325e-01,  2.3273e-02],\n",
            "        [-3.2192e-01, -4.2867e-01, -2.5380e-02, -1.0347e-01, -1.0466e-01,\n",
            "         -4.0356e-02, -1.7683e-01,  3.5398e-02, -5.8706e-02, -9.4719e-02,\n",
            "         -1.8044e-02, -2.9459e-01, -2.0491e-01, -5.4535e-02, -1.9132e-01,\n",
            "         -1.4638e-01, -8.1878e-02, -3.3597e-02, -3.1272e-02, -1.5737e-01,\n",
            "          5.1662e-02, -2.0873e-01, -4.0566e-02, -3.2419e-01, -1.0920e-01,\n",
            "         -1.2856e-01, -2.5660e-01,  2.3242e-02, -1.7204e-01,  2.0900e-02],\n",
            "        [-5.9935e-01,  1.7044e+00, -1.3371e+00, -4.2741e-01,  1.6626e+00,\n",
            "         -5.5312e-01, -8.7490e-01,  1.5034e+00,  4.3079e-02, -3.6335e-01,\n",
            "          1.3857e-01,  1.4121e-01,  2.1736e+00, -1.2351e-01,  1.2408e+00,\n",
            "          1.8228e+00, -3.9474e-01,  1.5632e+00,  2.6329e+00, -1.6325e+00,\n",
            "         -1.2540e-01,  6.2668e-01, -1.4352e-01,  2.3354e+00,  2.9238e-01,\n",
            "          6.3101e-01,  5.6744e-01, -1.2947e+00,  1.2564e-01,  1.0274e-01],\n",
            "        [-2.5377e-01, -3.5581e-01, -3.7782e-02,  9.7358e-01, -1.9155e+00,\n",
            "          1.1364e+00,  4.3267e-01, -6.2018e-01,  4.2845e-02, -8.2942e-04,\n",
            "          1.0089e+00, -1.8810e-01, -1.5021e+00, -1.6999e+00, -7.6166e-02,\n",
            "         -1.0740e+00,  2.7584e-01,  9.6612e-01, -1.7887e+00,  1.1343e+00,\n",
            "         -5.3693e-03, -6.9979e-01,  4.2133e-01, -1.4691e+00, -2.4970e-01,\n",
            "         -2.7228e-01, -3.1726e-01,  2.1745e+00,  1.7813e-01, -1.4087e-01],\n",
            "        [-1.2689e+00,  6.1539e-01, -2.7906e-01, -9.6409e-02,  1.1117e+00,\n",
            "         -1.3843e+00, -4.6273e-01,  3.8943e-01, -3.8691e-01,  3.2013e-01,\n",
            "         -1.3369e+00, -1.9961e-01,  1.0584e+00,  1.0385e+00, -1.7745e-01,\n",
            "          1.9201e+00, -4.4911e-01, -1.1136e+00,  4.3137e-01, -1.2455e+00,\n",
            "         -9.0980e-01, -1.4156e+00, -7.2360e-01,  1.3340e+00, -3.5914e-01,\n",
            "         -7.3789e-01, -4.2776e-01,  3.2369e-01, -1.8305e-01, -6.1963e-02],\n",
            "        [-3.5452e-02, -9.3689e-01,  6.1903e-01,  1.5587e+00, -1.6232e+00,\n",
            "          2.0116e+00,  1.3633e+00, -1.7295e-01,  7.8322e-01,  4.7314e-01,\n",
            "          6.9354e-01,  1.8728e+00, -4.0760e-01, -5.0119e-01, -7.6854e-01,\n",
            "         -5.2489e-01,  5.8993e-01, -3.7462e-01, -1.1076e+00,  2.3510e+00,\n",
            "          7.8755e-01,  2.5291e-02,  9.8217e-01, -1.3412e+00,  3.9380e-01,\n",
            "          3.9129e-01, -2.1798e-01,  1.1979e+00,  7.2636e-02,  1.7091e-01],\n",
            "        [ 1.1169e+00, -3.1287e-01,  2.0115e+00,  9.6538e-01, -1.1102e-01,\n",
            "          1.5001e+00,  1.2487e+00, -2.3104e-01,  1.5741e+00,  1.0036e+00,\n",
            "          2.3383e+00,  1.7496e+00, -3.3575e-01, -3.4583e-01, -6.8290e-01,\n",
            "         -3.5168e-01,  1.1278e+00, -5.4908e-01, -6.8818e-01,  3.0008e+00,\n",
            "          1.6134e+00,  1.0637e+00,  2.4754e+00, -2.5923e-01,  3.1585e-01,\n",
            "          1.4363e-01, -1.5629e+00,  1.4087e+00, -1.0610e-01,  4.5212e-02],\n",
            "        [-1.4301e-01, -2.4832e-01, -1.8326e-02, -4.3495e-01, -5.9771e-02,\n",
            "         -4.0939e-01, -1.5007e-01, -1.9935e-01, -3.7157e-01, -1.0094e-01,\n",
            "          1.7946e-02, -6.3433e-02, -1.3655e-01, -2.9499e-01, -8.7850e-02,\n",
            "          5.5528e-02, -1.2745e-01,  1.0277e-02, -2.3946e-01, -6.2208e-02,\n",
            "          2.9221e-02, -1.8857e-01,  1.4638e-01, -2.5508e-02, -6.7017e-03,\n",
            "         -1.8628e-01, -2.8726e-01, -2.9643e-01, -1.6597e-01, -2.1801e-01],\n",
            "        [ 1.3081e+00, -3.8514e-01,  6.8583e-01,  1.1599e+00,  1.1491e-01,\n",
            "          1.3009e+00,  8.9325e-01, -1.1886e+00,  1.4795e+00,  1.3640e+00,\n",
            "          5.3856e-01,  3.8093e-01, -4.5603e-01,  5.3498e-01, -1.6024e+00,\n",
            "         -1.1171e+00,  3.7871e-01,  5.8014e-01, -8.2903e-01,  2.6385e+00,\n",
            "          1.1889e+00,  2.9158e-01,  1.4338e+00, -5.5124e-01,  3.2469e-01,\n",
            "         -4.0323e-01, -7.3153e-01,  2.0094e+00,  3.6073e-01, -4.8707e-02],\n",
            "        [ 1.6108e+00,  1.7113e+00, -9.8856e-01, -5.1279e-01,  1.5661e+00,\n",
            "         -9.1578e-01, -4.6627e-01,  1.6014e+00, -9.4697e-01, -7.5797e-01,\n",
            "          6.4911e-01, -8.8394e-01,  1.6684e+00,  3.2561e+00,  2.4173e+00,\n",
            "          1.1406e+00, -2.4689e-01,  2.8386e+00,  2.2740e+00,  3.1849e-01,\n",
            "         -1.2380e+00,  1.4773e+00, -1.4775e+00,  2.1511e+00,  3.6952e-01,\n",
            "          9.0667e-02,  4.9716e-01, -9.3442e-01,  8.1001e-02, -5.9279e-02],\n",
            "        [-7.9048e-01,  1.1792e+00, -4.1714e-01, -4.1470e-01,  1.0210e+00,\n",
            "         -6.0042e-01, -9.6946e-01,  3.0772e-01, -4.2975e-01,  1.6938e-01,\n",
            "         -1.0964e+00, -5.0688e-01,  1.8728e+00,  1.6435e+00,  2.0908e+00,\n",
            "          5.2736e-01, -3.5583e-01,  1.1819e+00,  2.1000e+00, -2.4892e+00,\n",
            "         -7.0605e-01,  9.8744e-01, -2.2615e+00,  1.5350e+00,  7.4616e-02,\n",
            "          8.4883e-01,  1.0278e+00, -2.0058e+00,  1.8070e-01,  1.8162e-01],\n",
            "        [-2.4224e-01,  1.2028e-01,  1.9699e-01, -1.5700e-01, -3.6773e-01,\n",
            "         -2.9419e-01, -8.2588e-02, -8.7632e-01, -1.9859e-01, -1.2258e-01,\n",
            "         -4.5432e-01,  6.3535e-01, -3.0210e-01,  1.1260e-01, -6.0179e-01,\n",
            "          4.5999e-01, -9.9843e-01, -4.8285e-01, -4.9272e-02, -3.2972e-01,\n",
            "         -2.3028e-01, -3.4735e-01,  3.2560e-01,  9.5699e-02, -1.9302e-01,\n",
            "         -1.1260e-01,  9.2620e-01,  3.6967e-01, -3.3624e-01,  1.6050e-01],\n",
            "        [ 8.0246e-01, -1.2933e+00,  1.0401e+00,  1.8966e+00,  3.5784e-01,\n",
            "          1.8544e+00,  1.0487e+00, -1.5556e+00,  6.2497e-01,  1.8622e+00,\n",
            "          1.3106e+00,  5.5573e-01, -5.9182e-01, -5.8371e-01, -1.1437e+00,\n",
            "         -1.0374e+00,  1.7722e+00, -5.5587e-01, -1.5738e+00,  2.4998e+00,\n",
            "          1.5593e+00, -1.8552e-01,  1.3234e+00, -9.4649e-01, -2.2373e-01,\n",
            "          6.2259e-01, -9.4685e-02,  2.6151e+00,  1.7380e-01,  2.2108e-01],\n",
            "        [ 2.2890e-01,  1.5928e-01, -9.9725e-01, -1.2307e+00,  6.7889e-01,\n",
            "          2.5745e-01, -1.1783e+00, -2.6689e-01, -2.3064e+00, -2.0403e+00,\n",
            "          3.6481e-01, -2.1699e-02,  3.3400e-02,  1.4245e+00,  1.7907e+00,\n",
            "         -3.4462e-03, -6.9468e-01,  2.1044e+00, -5.6117e-01, -5.7196e-01,\n",
            "         -1.3670e+00,  1.4215e+00, -9.3739e-01, -3.6621e-02,  1.3891e-01,\n",
            "          8.0324e-02,  3.3605e-01, -9.8600e-01, -1.0037e-01, -1.5394e-01],\n",
            "        [-1.5094e-01, -2.7805e-01, -1.5662e-01, -1.7478e-01, -4.9705e-02,\n",
            "         -2.0657e-01,  2.7935e-02, -2.7412e-01, -5.6492e-02, -1.9234e-01,\n",
            "         -3.5789e-02, -5.4419e-03, -6.2816e-02, -7.9677e-02, -1.4836e-01,\n",
            "         -2.2397e-01, -9.0643e-02, -1.6493e-02, -2.1357e-02, -8.1368e-02,\n",
            "         -1.8162e-03, -5.3706e-02,  5.1124e-02, -7.4608e-02, -2.0054e-01,\n",
            "          1.1715e-02, -6.4253e-02, -2.0126e-01, -1.0283e-01,  1.4263e-01],\n",
            "        [ 4.3902e-01, -1.5723e+00,  6.8853e-01,  1.9277e+00, -7.1985e-01,\n",
            "          2.3883e+00,  7.7394e-01, -1.9064e+00,  1.5469e-01,  1.2374e+00,\n",
            "          6.3577e-01,  2.3641e+00, -4.9340e-01, -5.6308e-01, -5.4104e-01,\n",
            "         -5.0350e-01, -3.1011e-01, -6.3451e-01, -2.1534e+00,  2.1456e+00,\n",
            "          1.7037e+00, -2.0889e-01,  1.2162e+00, -4.5786e-01,  3.0582e-02,\n",
            "          4.6079e-01, -2.9403e-01,  1.5993e+00,  6.1227e-01, -1.3984e-01],\n",
            "        [-1.0071e+00,  1.5695e+00, -2.5613e-01, -6.1054e-01,  9.4766e-01,\n",
            "         -1.1147e+00, -1.0939e+00,  1.3019e+00, -3.0815e-02, -4.5914e-01,\n",
            "         -5.2201e-01, -2.3179e-01,  1.5688e+00,  9.8796e-01,  1.1427e+00,\n",
            "          9.3139e-01,  3.6223e-01,  1.2244e+00,  1.6018e+00, -1.5579e+00,\n",
            "         -5.3567e-01,  2.7959e-01, -7.5479e-01,  1.7213e+00,  6.5995e-02,\n",
            "         -2.0259e-01,  1.4991e+00, -1.3277e+00,  2.2026e-01, -1.2947e-01],\n",
            "        [-1.3628e-01, -1.5129e-01, -4.4693e-01, -4.1542e-01, -9.4842e-02,\n",
            "         -5.4998e-01, -6.7092e-02,  4.5519e-02, -6.7823e-01, -9.0993e-02,\n",
            "         -6.3402e-01, -2.0931e-02, -1.7018e-01,  3.5768e-02, -1.7347e-01,\n",
            "          6.4770e-02, -1.1125e-01, -1.4535e-01,  6.8588e-02,  1.1386e-01,\n",
            "         -1.7210e-01, -1.8091e-01, -1.4107e-01, -4.7552e-02, -1.6966e-01,\n",
            "         -6.4404e-01, -1.0551e-01, -4.8026e-01, -2.1175e-02,  1.6634e-01],\n",
            "        [-6.2056e-02, -4.7975e-01,  8.2978e-01,  5.0388e-01,  7.3432e-01,\n",
            "          1.1390e+00,  2.7109e-01, -1.2624e+00,  2.4927e+00,  2.1772e+00,\n",
            "          3.4810e-01, -2.4408e-01, -6.1981e-01, -1.2256e+00, -1.1566e+00,\n",
            "         -6.5337e-01,  1.6992e+00,  7.7490e-01, -2.2689e-01,  1.2696e+00,\n",
            "          9.7504e-01, -5.3668e-01,  6.5348e-01, -5.8246e-01,  3.8156e-01,\n",
            "         -4.8674e-02, -1.3953e+00,  3.0748e-01,  7.9583e-02,  4.1434e-02],\n",
            "        [ 1.5401e+00,  1.6738e+00,  7.6776e-03, -1.8565e+00,  2.2035e+00,\n",
            "         -1.3777e+00, -1.0818e+00,  2.1444e+00, -6.0300e-01, -2.7378e-01,\n",
            "         -2.7156e-01, -1.2731e+00,  1.7222e+00,  2.4747e+00,  1.5072e+00,\n",
            "          1.6047e+00, -6.2153e-02,  6.8596e-01,  2.3459e+00, -1.2219e+00,\n",
            "         -1.1641e+00,  1.7535e+00, -1.1348e+00,  2.1134e+00, -3.3136e-02,\n",
            "          3.4797e-02,  1.4996e+00, -9.8066e-01, -1.7394e-01, -1.5592e-01],\n",
            "        [-1.5754e-01,  3.5511e-02, -8.4447e-02,  2.4752e-02, -3.4531e-02,\n",
            "          1.6040e-02,  5.2931e-02, -1.7270e-01, -4.8839e-02, -1.2774e-01,\n",
            "         -1.5624e-01, -8.8839e-02, -1.6406e-01,  1.3504e-02, -1.3247e-01,\n",
            "         -1.5494e-01, -1.6292e-01,  3.5300e-02,  6.1422e-02, -1.7055e-01,\n",
            "         -1.6836e-01, -1.0957e-01, -7.8251e-02,  1.0404e-01,  1.4251e-01,\n",
            "         -7.1690e-02, -1.2560e-01,  1.3566e-02, -2.1414e-01, -8.8347e-02],\n",
            "        [ 4.8880e-02, -2.3858e-01, -3.1343e-02, -5.6601e-02, -2.6677e-01,\n",
            "         -1.0559e-01, -2.8613e-01, -2.4750e-02,  2.8295e-02, -3.2967e-02,\n",
            "         -1.0060e-01, -9.2841e-02, -1.0612e-02, -5.0205e-01, -1.7119e-01,\n",
            "         -2.4175e-02, -3.2399e-02, -1.9621e-01, -3.0094e-02, -5.8390e-02,\n",
            "         -7.2219e-02, -2.8301e-01,  5.2569e-02,  7.3942e-02, -1.4805e-01,\n",
            "          6.2632e-02, -6.9612e-01, -1.1142e-02,  3.1387e-02, -1.7106e-01],\n",
            "        [ 4.1111e-02, -1.4420e-01, -7.0167e-02, -4.5637e-02, -1.5353e-02,\n",
            "         -4.8318e-01,  1.0357e-01,  2.1057e-01, -1.6986e-01, -5.3208e-01,\n",
            "         -3.4426e-01, -5.8814e-01,  2.9513e-01, -4.0626e-02, -1.8768e-01,\n",
            "         -3.2715e-01, -1.8754e-01,  3.1895e-02, -6.1463e-02, -1.3300e-01,\n",
            "         -1.8775e-01, -1.4827e-01, -4.3665e-01, -2.6885e-01, -1.6654e-01,\n",
            "         -1.5816e-01, -1.9555e-01,  1.3423e-01,  1.7770e-02, -2.2040e-02]],\n",
            "       device='cuda:0', requires_grad=True)\n",
            "\n",
            "Bias of Hidden Layer: 2\n",
            "========================\n",
            "Parameter containing:\n",
            "tensor([-0.4002, -0.0628, -0.2523, -0.2924,  0.6298,  0.6197, -1.0908, -0.6537,\n",
            "         0.0039, -0.5786,  0.4305, -1.3009, -0.2900,  0.3286, -0.3529, -0.5502,\n",
            "         1.3215,  0.7454, -0.1362, -0.5646,  1.3966,  0.0217, -1.7414,  0.0414,\n",
            "        -0.2068,  1.3711,  0.1142, -0.1896, -0.3835, -0.6468], device='cuda:0',\n",
            "       requires_grad=True)\n",
            "\n"
          ],
          "name": "stdout"
        }
      ]
    },
    {
      "cell_type": "markdown",
      "metadata": {
        "id": "3G43i6DRf1pF"
      },
      "source": [
        "### **Network with Two Hidden Layer with 50 Neurons:**\n",
        "\n",
        "---\n",
        "\n"
      ]
    },
    {
      "cell_type": "code",
      "metadata": {
        "colab": {
          "base_uri": "https://localhost:8080/"
        },
        "id": "XewFvhnmfv5a",
        "outputId": "a2cd87b4-12b1-462f-fedd-35fc709c7ed3"
      },
      "source": [
        "model, hidden_layer_size, epochs, learning_rate = initialize_network()\n",
        "show_params(model, hidden_layer_size, \"initial\")"
      ],
      "execution_count": null,
      "outputs": [
        {
          "output_type": "stream",
          "text": [
            "Fixed Input and Output Size of 2 ('Enter 2')\n",
            "Enter Number of Neurons of Input Layer: 2\n",
            "Enter Number of Neurons of Output Layer: 2\n",
            "Enter Number of Hidden Layers:2\n",
            "Enter Number of Neurons in Hidden Layer 1: 50\n",
            "Enter Number of Neurons in Hidden Layer 2: 50\n",
            "Enter Activation Functions ('relu', 'sigmoid', 'identity', 'tanh')\n",
            "Enter Activation Function for Hidden Layer 1: relu\n",
            "Enter Activation Function for Hidden Layer 2: relu\n",
            "Enter Activation Function for Output Layer: sigmoid\n",
            "Enter Number of Epochs: 10\n",
            "Enter value of Learning Rate: 0.02\n",
            "Enter Dropout Value: 0.2\n",
            "\n",
            "\n",
            "Initial Weights and Biases of Network:\n",
            "=======================================\n",
            "\n",
            "Weights of Hidden Layer: 1\n",
            "==========================\n",
            "Parameter containing:\n",
            "tensor([[ 0.2435, -0.3966],\n",
            "        [-0.3325, -0.5067],\n",
            "        [-0.4083, -0.2634],\n",
            "        [ 0.1521,  0.6481],\n",
            "        [-0.5107,  0.1975],\n",
            "        [ 0.3921, -0.6807],\n",
            "        [ 0.6330,  0.5222],\n",
            "        [ 0.1852, -0.3121],\n",
            "        [ 0.1877, -0.6944],\n",
            "        [-0.2679, -0.3181],\n",
            "        [ 0.3244, -0.3142],\n",
            "        [-0.0309, -0.4474],\n",
            "        [-0.5907, -0.6284],\n",
            "        [-0.2827,  0.4760],\n",
            "        [ 0.1948,  0.6123],\n",
            "        [-0.3440, -0.3609],\n",
            "        [ 0.4080, -0.3207],\n",
            "        [ 0.4282, -0.1301],\n",
            "        [-0.2332,  0.3550],\n",
            "        [ 0.6790, -0.3645],\n",
            "        [ 0.1531,  0.5058],\n",
            "        [-0.1996, -0.4918],\n",
            "        [ 0.4156, -0.0600],\n",
            "        [-0.4563, -0.0435],\n",
            "        [ 0.7022, -0.7067],\n",
            "        [ 0.1640,  0.1681],\n",
            "        [ 0.1674,  0.2051],\n",
            "        [-0.4771,  0.1979],\n",
            "        [-0.4332, -0.3076],\n",
            "        [ 0.0746, -0.6368],\n",
            "        [ 0.3428,  0.2035],\n",
            "        [ 0.3101, -0.2158],\n",
            "        [-0.3877, -0.0966],\n",
            "        [-0.5976,  0.0185],\n",
            "        [-0.1948,  0.6288],\n",
            "        [ 0.4412,  0.6788],\n",
            "        [ 0.5204,  0.1900],\n",
            "        [-0.2148, -0.1276],\n",
            "        [ 0.5690,  0.4973],\n",
            "        [ 0.3559, -0.4791],\n",
            "        [ 0.5369,  0.2023],\n",
            "        [-0.4026, -0.4677],\n",
            "        [ 0.0013,  0.4954],\n",
            "        [-0.1733,  0.6929],\n",
            "        [-0.4053, -0.0848],\n",
            "        [-0.3197, -0.3597],\n",
            "        [-0.2709,  0.2347],\n",
            "        [ 0.0289,  0.5727],\n",
            "        [-0.2277,  0.4914],\n",
            "        [ 0.1137, -0.4204]], requires_grad=True)\n",
            "\n",
            "Bias of Hidden Layer: 1\n",
            "========================\n",
            "Parameter containing:\n",
            "tensor([ 0.2134, -0.4042,  0.3571, -0.2237, -0.0504, -0.2627,  0.6221,  0.3690,\n",
            "         0.7017,  0.5232,  0.4538, -0.0714, -0.0593, -0.1653, -0.4394, -0.3813,\n",
            "        -0.6036, -0.5597, -0.0987, -0.2169, -0.0093, -0.6966, -0.1832, -0.5397,\n",
            "         0.6554,  0.1880, -0.2475,  0.5556,  0.1210, -0.7066,  0.2336,  0.6538,\n",
            "         0.2953,  0.3671,  0.5631, -0.3266, -0.1873,  0.5650,  0.0634,  0.6674,\n",
            "        -0.6012, -0.4560,  0.1303,  0.2463, -0.3415, -0.4692, -0.2528, -0.6128,\n",
            "         0.5097, -0.4633], requires_grad=True)\n",
            "\n",
            "Weights of Hidden Layer: 2\n",
            "==========================\n",
            "Parameter containing:\n",
            "tensor([[ 0.1028, -0.1280, -0.0813,  ..., -0.1007,  0.1335,  0.0039],\n",
            "        [ 0.0124, -0.0992,  0.0172,  ...,  0.1369,  0.0647, -0.0959],\n",
            "        [-0.0935,  0.0635,  0.0864,  ..., -0.1267,  0.1258, -0.0954],\n",
            "        ...,\n",
            "        [-0.0817, -0.0922, -0.1247,  ...,  0.0283, -0.0473,  0.1133],\n",
            "        [ 0.0202, -0.1221, -0.0499,  ..., -0.0674, -0.0320,  0.0788],\n",
            "        [ 0.1272,  0.1041, -0.1160,  ..., -0.1360,  0.0325, -0.1387]],\n",
            "       requires_grad=True)\n",
            "\n",
            "Bias of Hidden Layer: 2\n",
            "========================\n",
            "Parameter containing:\n",
            "tensor([ 0.0473,  0.1316,  0.0796,  0.0092, -0.0126,  0.0991,  0.0747, -0.0046,\n",
            "         0.0230,  0.1229, -0.1387, -0.0814,  0.0211,  0.0837, -0.0796,  0.0713,\n",
            "        -0.0769, -0.0551,  0.1358,  0.0859, -0.1349,  0.0242,  0.0420, -0.0892,\n",
            "        -0.1343,  0.0521, -0.0755, -0.1256, -0.0270,  0.0936, -0.0201, -0.0299,\n",
            "        -0.1028, -0.0152,  0.0363,  0.1015,  0.0239, -0.1046,  0.0398,  0.0045,\n",
            "         0.0060,  0.0575,  0.0552,  0.1207,  0.0678, -0.1159, -0.0675,  0.0051,\n",
            "        -0.0969,  0.1042], requires_grad=True)\n",
            "\n"
          ],
          "name": "stdout"
        }
      ]
    },
    {
      "cell_type": "code",
      "metadata": {
        "colab": {
          "base_uri": "https://localhost:8080/"
        },
        "id": "9l8TnBzof7Oz",
        "outputId": "00e0bb76-5d54-4629-d4cc-ad64b0679d9a"
      },
      "source": [
        "model, train_preds, test_preds = runNN(model, X_train, X_test, y_train, y_test, epochs, criterion, learning_rate)"
      ],
      "execution_count": null,
      "outputs": [
        {
          "output_type": "stream",
          "text": [
            "/usr/local/lib/python3.6/dist-packages/torch/nn/functional.py:1639: UserWarning: nn.functional.sigmoid is deprecated. Use torch.sigmoid instead.\n",
            "  warnings.warn(\"nn.functional.sigmoid is deprecated. Use torch.sigmoid instead.\")\n"
          ],
          "name": "stderr"
        },
        {
          "output_type": "stream",
          "text": [
            "\n",
            "Epoch 1 of 10\n",
            "=================\n",
            " Training Loss: 0.3583 Test Loss: 0.3200\n",
            " Train Accuracy: 98.9000 Classification Error (Train): 1.1000\n",
            " Test Accuracy: 99.4000 Classification Error (Test): 0.6000\n",
            "\n",
            "\n",
            "Epoch 2 of 10\n",
            "=================\n",
            " Training Loss: 0.3315 Test Loss: 0.3262\n",
            " Train Accuracy: 99.2000 Classification Error (Train): 0.8000\n",
            " Test Accuracy: 98.6000 Classification Error (Test): 1.4000\n",
            "\n",
            "\n",
            "Epoch 3 of 10\n",
            "=================\n",
            " Training Loss: 0.3383 Test Loss: 0.3357\n",
            " Train Accuracy: 96.3000 Classification Error (Train): 3.7000\n",
            " Test Accuracy: 98.0000 Classification Error (Test): 2.0000\n",
            "\n",
            "\n",
            "Epoch 4 of 10\n",
            "=================\n",
            " Training Loss: 0.3526 Test Loss: 0.3860\n",
            " Train Accuracy: 96.8000 Classification Error (Train): 3.2000\n",
            " Test Accuracy: 98.2000 Classification Error (Test): 1.8000\n",
            "\n",
            "\n",
            "Epoch 5 of 10\n",
            "=================\n",
            " Training Loss: 0.3305 Test Loss: 0.3203\n",
            " Train Accuracy: 98.5000 Classification Error (Train): 1.5000\n",
            " Test Accuracy: 99.3000 Classification Error (Test): 0.7000\n",
            "\n",
            "\n",
            "Epoch 6 of 10\n",
            "=================\n",
            " Training Loss: 0.3290 Test Loss: 0.3133\n",
            " Train Accuracy: 100.0000 Classification Error (Train): 0.0000\n",
            " Test Accuracy: 100.0000 Classification Error (Test): 0.0000\n",
            "\n",
            "\n",
            "Epoch 7 of 10\n",
            "=================\n",
            " Training Loss: 0.3181 Test Loss: 0.3137\n",
            " Train Accuracy: 99.7000 Classification Error (Train): 0.3000\n",
            " Test Accuracy: 99.9000 Classification Error (Test): 0.1000\n",
            "\n",
            "\n",
            "Epoch 8 of 10\n",
            "=================\n",
            " Training Loss: 0.3195 Test Loss: 0.3133\n",
            " Train Accuracy: 100.0000 Classification Error (Train): 0.0000\n",
            " Test Accuracy: 100.0000 Classification Error (Test): 0.0000\n",
            "\n",
            "\n",
            "Epoch 9 of 10\n",
            "=================\n",
            " Training Loss: 0.3371 Test Loss: 0.3364\n",
            " Train Accuracy: 98.6000 Classification Error (Train): 1.4000\n",
            " Test Accuracy: 97.7000 Classification Error (Test): 2.3000\n",
            "\n",
            "\n",
            "Epoch 10 of 10\n",
            "=================\n",
            " Training Loss: 0.3396 Test Loss: 0.3247\n",
            " Train Accuracy: 100.0000 Classification Error (Train): 0.0000\n",
            " Test Accuracy: 100.0000 Classification Error (Test): 0.0000\n",
            "\n"
          ],
          "name": "stdout"
        }
      ]
    },
    {
      "cell_type": "code",
      "metadata": {
        "colab": {
          "base_uri": "https://localhost:8080/"
        },
        "id": "w40f0WdJgC3W",
        "outputId": "2a6f4307-9ad2-4a7d-ec51-c999ff9f78ee"
      },
      "source": [
        "show_params(model, hidden_layer_size, \"trained\")"
      ],
      "execution_count": null,
      "outputs": [
        {
          "output_type": "stream",
          "text": [
            "Updated Weights and Biases of Network:\n",
            "=======================================\n",
            "\n",
            "Weights of Hidden Layer: 1\n",
            "==========================\n",
            "Parameter containing:\n",
            "tensor([[ 3.6016e-01, -1.9533e+00],\n",
            "        [-6.3647e-01,  1.1980e-01],\n",
            "        [-1.1574e+00, -3.9133e-01],\n",
            "        [-5.6955e-01,  1.1922e+00],\n",
            "        [-1.8581e+00,  8.5973e-01],\n",
            "        [ 3.9184e-01, -2.0600e+00],\n",
            "        [ 1.4983e-01,  1.4005e-01],\n",
            "        [ 1.0598e+00, -1.9058e+00],\n",
            "        [-2.4278e-01, -2.7725e+00],\n",
            "        [-2.3900e-02,  8.9723e-02],\n",
            "        [ 1.2660e+00, -1.5580e+00],\n",
            "        [ 1.3232e+00, -3.4796e-01],\n",
            "        [-1.7605e+00,  2.8893e-03],\n",
            "        [ 2.2010e+00,  4.4042e+00],\n",
            "        [ 2.3351e-02,  3.8159e-01],\n",
            "        [-1.9230e+00, -2.0537e-02],\n",
            "        [ 1.7892e+00, -2.9857e-01],\n",
            "        [ 2.4668e+00,  1.4634e-01],\n",
            "        [-1.3329e+00,  1.5170e+00],\n",
            "        [ 2.0446e+00,  2.5640e-01],\n",
            "        [ 8.1417e-01,  4.1314e+00],\n",
            "        [-1.5057e+00, -1.3261e-01],\n",
            "        [ 1.3157e+00, -8.1031e-01],\n",
            "        [-1.0624e+00, -3.3558e-01],\n",
            "        [ 1.4282e+00, -2.9758e+00],\n",
            "        [-2.4435e-01,  2.3934e-01],\n",
            "        [ 6.0478e-02,  9.8180e-02],\n",
            "        [-3.5171e-01,  2.2828e+00],\n",
            "        [-1.6152e+00,  5.0342e-01],\n",
            "        [ 1.4386e+00, -2.3278e-01],\n",
            "        [ 3.9231e-01,  2.3022e+00],\n",
            "        [ 1.5648e+00,  8.1393e-02],\n",
            "        [-7.3573e-01,  1.5764e+00],\n",
            "        [ 1.3997e+00,  3.1380e+00],\n",
            "        [ 3.4313e-01,  3.0528e+00],\n",
            "        [ 2.1146e+00,  1.0735e+00],\n",
            "        [ 1.8395e+00,  3.1488e-01],\n",
            "        [-1.3311e+00,  3.6820e-01],\n",
            "        [ 1.7351e+00, -2.6599e-01],\n",
            "        [-7.8795e-01, -3.8964e+00],\n",
            "        [ 1.3330e+00, -3.9845e-01],\n",
            "        [-1.9723e+00, -1.5957e-01],\n",
            "        [-7.3400e-01,  2.2948e+00],\n",
            "        [-5.8960e-01,  2.5155e+00],\n",
            "        [-2.1910e+00, -1.9066e-01],\n",
            "        [-1.2549e+00,  5.5660e-01],\n",
            "        [-1.4772e+00,  4.2126e-01],\n",
            "        [-4.9137e-02,  5.5531e-01],\n",
            "        [ 3.8109e-01,  2.7361e+00],\n",
            "        [-6.4759e-01, -3.1400e+00]], device='cuda:0', requires_grad=True)\n",
            "\n",
            "Bias of Hidden Layer: 1\n",
            "========================\n",
            "Parameter containing:\n",
            "tensor([-0.7885, -1.7092,  0.0797, -1.0638, -0.7145, -0.6087, -1.1006, -0.2700,\n",
            "         0.4432, -0.2020, -0.4501, -1.0043, -1.2298,  1.6085, -0.6294, -1.6082,\n",
            "        -1.9455, -1.9474, -0.2088, -1.8693,  1.4400, -1.4522, -2.0984, -1.4729,\n",
            "         0.2082, -0.8165, -0.3544,  0.8164, -1.2933, -1.4937, -0.1541, -0.9584,\n",
            "        -0.6746,  0.6659,  0.3695, -1.2541, -1.7916, -0.7337, -1.5708,  1.0293,\n",
            "        -1.9262, -1.4774, -0.2445, -0.6761, -1.1674, -1.8240, -1.0783, -0.8765,\n",
            "         0.3480,  0.3600], device='cuda:0', requires_grad=True)\n",
            "\n",
            "Weights of Hidden Layer: 2\n",
            "==========================\n",
            "Parameter containing:\n",
            "tensor([[ 0.4890, -0.5257, -0.2089,  ...,  0.0608, -0.2676,  1.1042],\n",
            "        [-1.0531, -0.8622, -0.1538,  ...,  0.1369, -0.6734, -0.9235],\n",
            "        [-0.1960, -0.0573, -0.0618,  ..., -0.1267, -0.0109, -0.0954],\n",
            "        ...,\n",
            "        [-0.1816, -0.1079,  0.5004,  ...,  0.4511,  0.2956,  0.9921],\n",
            "        [-0.0910, -0.2332, -0.1610,  ..., -0.0674, -0.5794, -0.0324],\n",
            "        [ 0.0203, -0.0160, -0.1160,  ..., -0.1360,  0.5476, -0.1387]],\n",
            "       device='cuda:0', requires_grad=True)\n",
            "\n",
            "Bias of Hidden Layer: 2\n",
            "========================\n",
            "Parameter containing:\n",
            "tensor([-0.4117, -0.5411, -0.0731, -2.1060, -0.7489,  2.2996, -0.5392, -1.3312,\n",
            "         0.8218,  0.6368, -0.9057, -0.1837, -0.0858, -0.0278, -0.5992,  0.9158,\n",
            "        -0.2016, -0.4301, -0.0860, -0.6970, -0.2418, -0.7148, -0.0625, -0.2033,\n",
            "        -0.2803,  0.4469, -1.7606, -0.2457,  0.8029, -0.8422,  1.6309,  0.3551,\n",
            "        -0.1803, -0.1353, -0.7139, -0.4718, -2.2328, -0.5497,  0.1882, -0.1321,\n",
            "        -0.1676, -0.2346, -0.0517, -0.2241,  1.7946,  0.0863, -1.3080, -0.4051,\n",
            "        -0.2084,  0.5904], device='cuda:0', requires_grad=True)\n",
            "\n"
          ],
          "name": "stdout"
        }
      ]
    },
    {
      "cell_type": "code",
      "metadata": {
        "colab": {
          "base_uri": "https://localhost:8080/"
        },
        "id": "PPayChgxwR7f",
        "outputId": "cea08e98-37a8-4c0b-9c09-b31967365259"
      },
      "source": [
        "# Concatenating Predictions to the Dataset for Visualization:\n",
        "\n",
        "df_preds_train, df_preds_test = createDF(X_train, X_test, train_preds, test_preds)\n",
        "print(\"Train DF:\\n\", df_preds_train.head())\n",
        "print(\"\\n\")\n",
        "print(\"Test DF:\\n\", df_preds_test.head())"
      ],
      "execution_count": null,
      "outputs": [
        {
          "output_type": "stream",
          "text": [
            "Train DF:\n",
            "          X1        X2  y\n",
            "0 -3.701364 -0.629046  1\n",
            "1  0.966034 -1.730585  0\n",
            "2  3.937414  0.280557  0\n",
            "3 -0.622573  0.659318  1\n",
            "4 -0.480439 -0.154834  0\n",
            "\n",
            "\n",
            "Test DF:\n",
            "          X1        X2  y\n",
            "0 -2.839610 -0.150850  1\n",
            "1  3.080236 -1.450715  0\n",
            "2  3.301330 -0.371411  0\n",
            "3  2.828411 -1.601847  0\n",
            "4  2.926306 -1.645935  0\n"
          ],
          "name": "stdout"
        }
      ]
    },
    {
      "cell_type": "markdown",
      "metadata": {
        "id": "0dzBT0t5f5ej"
      },
      "source": [
        "### *Plots Showing Predicted Data*\n",
        "#### *Network Used: 2 Hidden Layers with 50 Neurons (100% Accuracy)*"
      ]
    },
    {
      "cell_type": "code",
      "metadata": {
        "colab": {
          "base_uri": "https://localhost:8080/",
          "height": 458
        },
        "id": "ZUJk2vqbwZZv",
        "outputId": "cceeedb0-b34e-4aff-bc90-b46dc3eb34f2"
      },
      "source": [
        "plot_points(df_preds_train, \"preds\", \"train\")"
      ],
      "execution_count": null,
      "outputs": [
        {
          "output_type": "display_data",
          "data": {
            "image/png": "[encoded data removed]",
            "text/plain": [
              "<Figure size 864x504 with 1 Axes>"
            ]
          },
          "metadata": {
            "tags": [],
            "needs_background": "light"
          }
        }
      ]
    },
    {
      "cell_type": "code",
      "metadata": {
        "colab": {
          "base_uri": "https://localhost:8080/",
          "height": 458
        },
        "id": "kUGMMBtJwn5n",
        "outputId": "4954b7ec-7701-46c2-cf0a-d4c7bada2f1a"
      },
      "source": [
        "plot_points(df_preds_test, \"preds\", \"test\")"
      ],
      "execution_count": null,
      "outputs": [
        {
          "output_type": "display_data",
          "data": {
            "image/png": "[encoded data removed]",
            "text/plain": [
              "<Figure size 864x504 with 1 Axes>"
            ]
          },
          "metadata": {
            "tags": [],
            "needs_background": "light"
          }
        }
      ]
    }
  ]
}